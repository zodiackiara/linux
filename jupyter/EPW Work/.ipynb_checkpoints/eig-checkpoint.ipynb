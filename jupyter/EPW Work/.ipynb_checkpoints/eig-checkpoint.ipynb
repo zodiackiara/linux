{
 "cells": [
  {
   "cell_type": "code",
   "execution_count": 23,
   "id": "4488edeb-3263-4c91-b31e-560db4eec24b",
   "metadata": {},
   "outputs": [],
   "source": [
    "import pandas as pd\n",
    "\n",
    "with open(\"../bgw/out/sig2wan.inp\", \"r\") as sig:\n",
    "    lines = sig.readlines()\n",
    "    nbnd = int(lines[5])\n",
    "    \n",
    "with open('cutoff.eig', 'w') as cf:\n",
    "    cf.write(\"nbnd      emax      emin \\n\")\n",
    "\n",
    "#读取eig文件中，所有k点的第n条能带能量，从而得出其最大与最小值\n",
    "    for n in range(0,nbnd):\n",
    "        eig = pd.read_csv('../bgw/out/bn.eig',sep='\\s+',header=None,names=None,skiprows=lambda x:(x-n) % nbnd != 0)\n",
    "        eig = eig.drop([0,1],axis=1)\n",
    "        print(n+1,' ',eig.min().values[0],' ',eig.max().values[0],file=cf)"
   ]
  },
  {
   "cell_type": "code",
   "execution_count": 29,
   "id": "d0358450-0c4a-4142-a82f-0c9e029b6ce8",
   "metadata": {},
   "outputs": [
    {
     "name": "stdout",
     "output_type": "stream",
     "text": [
      "             2\n",
      "0   -17.340145\n",
      "1   -17.328049\n",
      "2   -17.328049\n",
      "3   -17.218401\n",
      "4   -17.202372\n",
      "..         ...\n",
      "427 -16.409141\n",
      "428 -16.409141\n",
      "429 -16.957293\n",
      "430 -16.937548\n",
      "431 -16.937548\n",
      "\n",
      "[432 rows x 1 columns]\n"
     ]
    }
   ],
   "source": [
    "import pandas as pd\n",
    "\n",
    "with open(\"../bgw/out/sig2wan.inp\", \"r\") as f:\n",
    "    lines = f.readlines()\n",
    "    nbnd = int(lines[5])\n",
    "\n",
    "    eig = pd.read_csv('../bgw/out/bn.eig',sep='\\s+',header=None,names=None,skiprows=lambda x:(x-0)%nbnd!= 0)\n",
    "    eig = eig.drop([0,1],axis=1)\n",
    "    #print(f'number_bands={n+1},min_energy={min(eig.values)},max_energy={max(eig.values)}','\\n')\n",
    "    print(eig)"
   ]
  },
  {
   "cell_type": "code",
   "execution_count": null,
   "id": "b2d26b1a-d9ca-49b1-8d0d-22bff09bbe13",
   "metadata": {},
   "outputs": [],
   "source": []
  }
 ],
 "metadata": {
  "kernelspec": {
   "display_name": "Python 3 (ipykernel)",
   "language": "python",
   "name": "python3"
  },
  "language_info": {
   "codemirror_mode": {
    "name": "ipython",
    "version": 3
   },
   "file_extension": ".py",
   "mimetype": "text/x-python",
   "name": "python",
   "nbconvert_exporter": "python",
   "pygments_lexer": "ipython3",
   "version": "3.9.7"
  }
 },
 "nbformat": 4,
 "nbformat_minor": 5
}
