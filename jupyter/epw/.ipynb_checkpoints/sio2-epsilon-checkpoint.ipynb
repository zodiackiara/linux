{
 "cells": [
  {
   "cell_type": "code",
   "execution_count": 23,
   "id": "78a88d4a-6126-4dad-a5ed-7166ba783026",
   "metadata": {},
   "outputs": [
    {
     "ename": "KeyError",
     "evalue": "4",
     "output_type": "error",
     "traceback": [
      "\u001b[0;31m---------------------------------------------------------------------------\u001b[0m",
      "\u001b[0;31mKeyError\u001b[0m                                  Traceback (most recent call last)",
      "File \u001b[0;32m/usr/local/miniconda3/lib/python3.9/site-packages/pandas/core/indexes/base.py:3080\u001b[0m, in \u001b[0;36mIndex.get_loc\u001b[0;34m(self, key, method, tolerance)\u001b[0m\n\u001b[1;32m   3079\u001b[0m \u001b[38;5;28;01mtry\u001b[39;00m:\n\u001b[0;32m-> 3080\u001b[0m     \u001b[38;5;28;01mreturn\u001b[39;00m \u001b[38;5;28;43mself\u001b[39;49m\u001b[38;5;241;43m.\u001b[39;49m\u001b[43m_engine\u001b[49m\u001b[38;5;241;43m.\u001b[39;49m\u001b[43mget_loc\u001b[49m\u001b[43m(\u001b[49m\u001b[43mcasted_key\u001b[49m\u001b[43m)\u001b[49m\n\u001b[1;32m   3081\u001b[0m \u001b[38;5;28;01mexcept\u001b[39;00m \u001b[38;5;167;01mKeyError\u001b[39;00m \u001b[38;5;28;01mas\u001b[39;00m err:\n",
      "File \u001b[0;32mpandas/_libs/index.pyx:70\u001b[0m, in \u001b[0;36mpandas._libs.index.IndexEngine.get_loc\u001b[0;34m()\u001b[0m\n",
      "File \u001b[0;32mpandas/_libs/index.pyx:101\u001b[0m, in \u001b[0;36mpandas._libs.index.IndexEngine.get_loc\u001b[0;34m()\u001b[0m\n",
      "File \u001b[0;32mpandas/_libs/hashtable_class_helper.pxi:1625\u001b[0m, in \u001b[0;36mpandas._libs.hashtable.Int64HashTable.get_item\u001b[0;34m()\u001b[0m\n",
      "File \u001b[0;32mpandas/_libs/hashtable_class_helper.pxi:1632\u001b[0m, in \u001b[0;36mpandas._libs.hashtable.Int64HashTable.get_item\u001b[0;34m()\u001b[0m\n",
      "\u001b[0;31mKeyError\u001b[0m: 4",
      "\nThe above exception was the direct cause of the following exception:\n",
      "\u001b[0;31mKeyError\u001b[0m                                  Traceback (most recent call last)",
      "Cell \u001b[0;32mIn [23], line 11\u001b[0m\n\u001b[1;32m      9\u001b[0m dirabs \u001b[38;5;241m=\u001b[39m pd\u001b[38;5;241m.\u001b[39mread_csv(filename,sep\u001b[38;5;241m=\u001b[39m\u001b[38;5;124m'\u001b[39m\u001b[38;5;124m\\\u001b[39m\u001b[38;5;124ms+\u001b[39m\u001b[38;5;124m'\u001b[39m, header\u001b[38;5;241m=\u001b[39m\u001b[38;5;28;01mNone\u001b[39;00m, names\u001b[38;5;241m=\u001b[39m\u001b[38;5;28;01mNone\u001b[39;00m,skiprows\u001b[38;5;241m=\u001b[39m[\u001b[38;5;241m0\u001b[39m,\u001b[38;5;241m1\u001b[39m])\n\u001b[1;32m     10\u001b[0m dirabs_energy \u001b[38;5;241m=\u001b[39m dirabs[\u001b[38;5;241m0\u001b[39m]\u001b[38;5;241m.\u001b[39mtolist()\n\u001b[0;32m---> 11\u001b[0m dirabs_imag \u001b[38;5;241m=\u001b[39m \u001b[43mdirabs\u001b[49m\u001b[43m[\u001b[49m\u001b[38;5;241;43m4\u001b[39;49m\u001b[43m]\u001b[49m\u001b[38;5;241m.\u001b[39mtolist()\n\u001b[1;32m     12\u001b[0m dirabs_real \u001b[38;5;241m=\u001b[39m pykk\u001b[38;5;241m.\u001b[39mimag2real(dirabs_energy,dirabs_imag) \n\u001b[1;32m     13\u001b[0m dirabs_real \u001b[38;5;241m=\u001b[39m pd\u001b[38;5;241m.\u001b[39mSeries(dirabs_real)\n",
      "File \u001b[0;32m/usr/local/miniconda3/lib/python3.9/site-packages/pandas/core/frame.py:3024\u001b[0m, in \u001b[0;36mDataFrame.__getitem__\u001b[0;34m(self, key)\u001b[0m\n\u001b[1;32m   3022\u001b[0m \u001b[38;5;28;01mif\u001b[39;00m \u001b[38;5;28mself\u001b[39m\u001b[38;5;241m.\u001b[39mcolumns\u001b[38;5;241m.\u001b[39mnlevels \u001b[38;5;241m>\u001b[39m \u001b[38;5;241m1\u001b[39m:\n\u001b[1;32m   3023\u001b[0m     \u001b[38;5;28;01mreturn\u001b[39;00m \u001b[38;5;28mself\u001b[39m\u001b[38;5;241m.\u001b[39m_getitem_multilevel(key)\n\u001b[0;32m-> 3024\u001b[0m indexer \u001b[38;5;241m=\u001b[39m \u001b[38;5;28;43mself\u001b[39;49m\u001b[38;5;241;43m.\u001b[39;49m\u001b[43mcolumns\u001b[49m\u001b[38;5;241;43m.\u001b[39;49m\u001b[43mget_loc\u001b[49m\u001b[43m(\u001b[49m\u001b[43mkey\u001b[49m\u001b[43m)\u001b[49m\n\u001b[1;32m   3025\u001b[0m \u001b[38;5;28;01mif\u001b[39;00m is_integer(indexer):\n\u001b[1;32m   3026\u001b[0m     indexer \u001b[38;5;241m=\u001b[39m [indexer]\n",
      "File \u001b[0;32m/usr/local/miniconda3/lib/python3.9/site-packages/pandas/core/indexes/base.py:3082\u001b[0m, in \u001b[0;36mIndex.get_loc\u001b[0;34m(self, key, method, tolerance)\u001b[0m\n\u001b[1;32m   3080\u001b[0m         \u001b[38;5;28;01mreturn\u001b[39;00m \u001b[38;5;28mself\u001b[39m\u001b[38;5;241m.\u001b[39m_engine\u001b[38;5;241m.\u001b[39mget_loc(casted_key)\n\u001b[1;32m   3081\u001b[0m     \u001b[38;5;28;01mexcept\u001b[39;00m \u001b[38;5;167;01mKeyError\u001b[39;00m \u001b[38;5;28;01mas\u001b[39;00m err:\n\u001b[0;32m-> 3082\u001b[0m         \u001b[38;5;28;01mraise\u001b[39;00m \u001b[38;5;167;01mKeyError\u001b[39;00m(key) \u001b[38;5;28;01mfrom\u001b[39;00m \u001b[38;5;21;01merr\u001b[39;00m\n\u001b[1;32m   3084\u001b[0m \u001b[38;5;28;01mif\u001b[39;00m tolerance \u001b[38;5;129;01mis\u001b[39;00m \u001b[38;5;129;01mnot\u001b[39;00m \u001b[38;5;28;01mNone\u001b[39;00m:\n\u001b[1;32m   3085\u001b[0m     tolerance \u001b[38;5;241m=\u001b[39m \u001b[38;5;28mself\u001b[39m\u001b[38;5;241m.\u001b[39m_convert_tolerance(tolerance, np\u001b[38;5;241m.\u001b[39masarray(key))\n",
      "\u001b[0;31mKeyError\u001b[0m: 4"
     ]
    }
   ],
   "source": [
    "import pykk\n",
    "import pandas as pd\n",
    "import os\n",
    "\n",
    "#读入文件名包含epsilon2_dirabs的文件\n",
    "#对于直接吸收文件，只需读取第4列的平均介电虚部\n",
    "for filename in os.listdir('.'):\n",
    "    if 'epsilon2_dirabs' in filename:\n",
    "        dirabs = pd.read_csv(filename,sep='\\s+', header=None, names=None,skiprows=[0,1])\n",
    "        dirabs_energy = dirabs[0].tolist()\n",
    "        dirabs_imag = dirabs[4].tolist()\n",
    "        dirabs_real = pykk.imag2real(dirabs_energy,dirabs_imag) \n",
    "        dirabs_real = pd.Series(dirabs_real)\n",
    "        dirabs_real = dirabs_real.T\n",
    "        dirabs = pd.DataFrame({'energy':dirabs_energy,'epsilon1':dirabs_real,'epsilon2':dirabs_imag})\n",
    "        print (dirabs)\n",
    "        dirabs.to_csv(filename.txt,sep=' ',index=0)\n",
    "\n",
    "for filename in os.listdir('.'):\n",
    "    if 'epsilon2_indabs' in filename:\n",
    "        indabs = pd.read_csv(filename,sep='\\s+', header=None, names=None,skiprows=[0,1])\n",
    "indabs_energy = indabs[0].tolist()\n",
    "energy = pd.DataFrame({'energy':indabs_energy})\n",
    "energy.to_csv(filename,sep=' ',index=0,mode='a')\n",
    "#n=1\n",
    "#for i in ['0.001','0.002','0.005','0.01','0.02','0.05','0.1','0.2','0.5']:\n",
    "#    n=n+1\n",
    "#    indabs_real = 'indabs_real_{}'.format(i)\n",
    "#    indabs_imag = 'indabs_imag_{}'.format(i)\n",
    "#    print(indabs_real)\n",
    "#    indabs_imag = indabs[2].tolist()\n",
    "#    indabs_real = pykk.imag2real(indabs_energy,indabs_imag) \n",
    "#    indabs_real = pd.Series(indabs_real)\n",
    "#    indabs_real = indabs_real.T\n",
    "#print(indabs_real)\n",
    "#indabs = pd.DataFrame({'energy':indabs_energy,'epsilon1_0.001':indabs_real_0.001,'epsilon2_0.001':indabs_imag_0.001})\n",
    "#print (indabs)\n",
    "\n",
    "#indabs.to_csv('indabs_300K.txt',sep=' ',index=0)\n",
    "\n",
    "#indabs_imag-0.001 = indabs[2].tolist()\n",
    "#indabs_imag-0.002 = indabs[3].tolist()\n",
    "#indabs_imag-0.005 = indabs[4].tolist()\n",
    "#indabs_imag-0.01 = indabs[5].tolist()\n",
    "#indabs_imag-0.02 = indabs[6].tolist()\n",
    "#indabs_imag-0.05 = indabs[7].tolist()\n",
    "#indabs_imag-0.1 = indabs[8].tolist()\n",
    "#indabs_imag-0.2 = indabs[9].tolist()\n",
    "#indabs_imag-0.5 = indabs[10].tolist()\n",
    "##这个数字对应选择不同展宽值[0.001,0.002,0.005,0.01,0.02,0.05,0.1,0.2,0.5]\n",
    "#与实验文献中的epsilon2对比，选择epsilon2最接近的展宽值\n",
    "\n",
    "#indabs_real = pykk.imag2real(indabs_energy,indabs_imag) \n",
    "#indabs_real = pd.Series(indabs_real)\n",
    "#indabs_real = indabs_real.T\n",
    "\n",
    "#indabs = pd.DataFrame({'energy':indabs_energy,'epsilon1-0.001':indabs_real,'epsilon2-0.001':indabs_imag})\n",
    "#print (indabs)\n",
    "#\n",
    "#indabs.to_csv('sio2_indabs_300K.txt',sep=' ',index=0)"
   ]
  },
  {
   "cell_type": "code",
   "execution_count": null,
   "id": "7b2a5aed-9d19-4a8d-bcf7-f3ca1eb2a8d0",
   "metadata": {},
   "outputs": [],
   "source": []
  }
 ],
 "metadata": {
  "kernelspec": {
   "display_name": "Python 3 (ipykernel)",
   "language": "python",
   "name": "python3"
  },
  "language_info": {
   "codemirror_mode": {
    "name": "ipython",
    "version": 3
   },
   "file_extension": ".py",
   "mimetype": "text/x-python",
   "name": "python",
   "nbconvert_exporter": "python",
   "pygments_lexer": "ipython3",
   "version": "3.9.7"
  }
 },
 "nbformat": 4,
 "nbformat_minor": 5
}
