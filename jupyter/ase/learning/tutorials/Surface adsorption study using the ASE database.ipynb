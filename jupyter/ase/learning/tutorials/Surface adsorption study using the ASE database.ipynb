{
 "cells": [
  {
   "cell_type": "code",
   "execution_count": 1,
   "id": "f513a252",
   "metadata": {},
   "outputs": [],
   "source": [
    "from ase.build import bulk\n",
    "from ase.calculators.emt import EMT\n",
    "from ase.eos import calculate_eos\n",
    "from ase.db import connect\n",
    "\n",
    "db = connect('bulk.db')\n",
    "for symb in ['Al', 'Ni', 'Cu', 'Pd', 'Ag', 'Pt', 'Au']:\n",
    "    atoms = bulk(symb, 'fcc')\n",
    "    atoms.calc = EMT()\n",
    "    eos = calculate_eos(atoms)\n",
    "    v, e, B = eos.fit()  # find minimum\n",
    "    # Do one more calculation at the minimu and write to database:\n",
    "    atoms.cell *= (v / atoms.get_volume())**(1 / 3)\n",
    "    atoms.get_potential_energy()\n",
    "    db.write(atoms, bm=B)"
   ]
  },
  {
   "cell_type": "code",
   "execution_count": 4,
   "id": "e9f46d23",
   "metadata": {},
   "outputs": [],
   "source": [
    "from ase.calculators.emt import EMT\n",
    "from ase.db import connect\n",
    "from ase.build import fcc111, add_adsorbate\n",
    "from ase.constraints import FixAtoms\n",
    "from ase.optimize import BFGS\n",
    "\n",
    "db1 = connect('bulk.db')\n",
    "db2 = connect('ads.db')\n",
    "\n",
    "\n",
    "def run(symb, a, n, ads):\n",
    "    atoms = fcc111(symb, (1, 1, n), a=a)\n",
    "    add_adsorbate(atoms, ads, height=1.0, position='fcc')\n",
    "\n",
    "    # Constrain all atoms except the adsorbate:\n",
    "    fixed = list(range(len(atoms) - 1))\n",
    "    atoms.constraints = [FixAtoms(indices=fixed)]\n",
    "\n",
    "    atoms.calc = EMT()\n",
    "    opt = BFGS(atoms, logfile=None)\n",
    "    opt.run(fmax=0.01)\n",
    "    return atoms\n",
    "\n",
    "\n",
    "for row in db1.select():\n",
    "    a = row.cell[0, 1] * 2\n",
    "    symb = row.symbols[0]\n",
    "    for n in [1, 2, 3]:\n",
    "        for ads in 'CNO':\n",
    "            atoms = run(symb, a, n, ads)\n",
    "            db2.write(atoms, layers=n, surf=symb, ads=ads)"
   ]
  },
  {
   "cell_type": "code",
   "execution_count": 8,
   "id": "546edb03",
   "metadata": {},
   "outputs": [],
   "source": [
    "from ase import Atoms\n",
    "from ase.calculators.emt import EMT\n",
    "from ase.db import connect\n",
    "from ase.build import fcc111\n",
    "\n",
    "db1 = connect('bulk.db')\n",
    "db2 = connect('ads.db')\n",
    "\n",
    "\n",
    "def run(symb, a, n):\n",
    "    atoms = fcc111(symb, (1, 1, n), a=a)\n",
    "    atoms.calc = EMT()\n",
    "    atoms.get_forces()\n",
    "    return atoms\n",
    "\n",
    "\n",
    "# Clean slabs:\n",
    "for row in db1.select():\n",
    "    a = row.cell[0, 1] * 2\n",
    "    symb = row.symbols[0]\n",
    "    for n in [1, 2, 3]:\n",
    "        id = db2.reserve(layers=n, surf=symb, ads='clean')\n",
    "        if id is not None:\n",
    "            atoms = run(symb, a, n)\n",
    "            db2.write(atoms, id=id, layers=n, surf=symb, ads='clean')\n",
    "\n",
    "# Atoms:\n",
    "for ads in 'CNO':\n",
    "    a = Atoms(ads)\n",
    "    a.calc = EMT()\n",
    "    a.get_potential_energy()\n",
    "    db2.write(a)"
   ]
  },
  {
   "cell_type": "code",
   "execution_count": 13,
   "id": "77676734",
   "metadata": {},
   "outputs": [
    {
     "ename": "KeyError",
     "evalue": "'no match'",
     "output_type": "error",
     "traceback": [
      "\u001b[1;31m---------------------------------------------------------------------------\u001b[0m",
      "\u001b[1;31mKeyError\u001b[0m                                  Traceback (most recent call last)",
      "Input \u001b[1;32mIn [13]\u001b[0m, in \u001b[0;36m<cell line: 6>\u001b[1;34m()\u001b[0m\n\u001b[0;32m      4\u001b[0m db \u001b[38;5;241m=\u001b[39m connect(\u001b[38;5;124m'\u001b[39m\u001b[38;5;124mads.db\u001b[39m\u001b[38;5;124m'\u001b[39m)\n\u001b[0;32m      6\u001b[0m \u001b[38;5;28;01mfor\u001b[39;00m row \u001b[38;5;129;01min\u001b[39;00m db\u001b[38;5;241m.\u001b[39mselect():\n\u001b[1;32m----> 7\u001b[0m     ea \u001b[38;5;241m=\u001b[39m (row\u001b[38;5;241m.\u001b[39menergy \u001b[38;5;241m-\u001b[39m \u001b[43mrefs\u001b[49m\u001b[38;5;241;43m.\u001b[39;49m\u001b[43mget\u001b[49m\u001b[43m(\u001b[49m\u001b[43mformula\u001b[49m\u001b[38;5;241;43m=\u001b[39;49m\u001b[43mrow\u001b[49m\u001b[38;5;241;43m.\u001b[39;49m\u001b[43mads\u001b[49m\u001b[43m)\u001b[49m\u001b[38;5;241m.\u001b[39menergy \u001b[38;5;241m-\u001b[39m \n\u001b[0;32m      8\u001b[0m           refs\u001b[38;5;241m.\u001b[39mget(layers\u001b[38;5;241m=\u001b[39mrow\u001b[38;5;241m.\u001b[39mlayers, surf\u001b[38;5;241m=\u001b[39mrow\u001b[38;5;241m.\u001b[39msurf)\u001b[38;5;241m.\u001b[39menergy)\n\u001b[0;32m      9\u001b[0m     h \u001b[38;5;241m=\u001b[39m row\u001b[38;5;241m.\u001b[39mpositions[\u001b[38;5;241m-\u001b[39m\u001b[38;5;241m1\u001b[39m, \u001b[38;5;241m2\u001b[39m] \u001b[38;5;241m-\u001b[39m row\u001b[38;5;241m.\u001b[39mpositions[\u001b[38;5;241m-\u001b[39m\u001b[38;5;241m2\u001b[39m, \u001b[38;5;241m2\u001b[39m]\n\u001b[0;32m     10\u001b[0m     db\u001b[38;5;241m.\u001b[39mupdate(row\u001b[38;5;241m.\u001b[39mid, height\u001b[38;5;241m=\u001b[39mh, ea\u001b[38;5;241m=\u001b[39mea)\n",
      "File \u001b[1;32mC:\\Softwares\\Miniconda\\lib\\site-packages\\ase\\db\\core.py:432\u001b[0m, in \u001b[0;36mDatabase.get\u001b[1;34m(self, selection, **kwargs)\u001b[0m\n\u001b[0;32m    430\u001b[0m rows \u001b[38;5;241m=\u001b[39m \u001b[38;5;28mlist\u001b[39m(\u001b[38;5;28mself\u001b[39m\u001b[38;5;241m.\u001b[39mselect(selection, limit\u001b[38;5;241m=\u001b[39m\u001b[38;5;241m2\u001b[39m, \u001b[38;5;241m*\u001b[39m\u001b[38;5;241m*\u001b[39mkwargs))\n\u001b[0;32m    431\u001b[0m \u001b[38;5;28;01mif\u001b[39;00m \u001b[38;5;129;01mnot\u001b[39;00m rows:\n\u001b[1;32m--> 432\u001b[0m     \u001b[38;5;28;01mraise\u001b[39;00m \u001b[38;5;167;01mKeyError\u001b[39;00m(\u001b[38;5;124m'\u001b[39m\u001b[38;5;124mno match\u001b[39m\u001b[38;5;124m'\u001b[39m)\n\u001b[0;32m    433\u001b[0m \u001b[38;5;28;01massert\u001b[39;00m \u001b[38;5;28mlen\u001b[39m(rows) \u001b[38;5;241m==\u001b[39m \u001b[38;5;241m1\u001b[39m, \u001b[38;5;124m'\u001b[39m\u001b[38;5;124mmore than one row matched\u001b[39m\u001b[38;5;124m'\u001b[39m\n\u001b[0;32m    434\u001b[0m \u001b[38;5;28;01mreturn\u001b[39;00m rows[\u001b[38;5;241m0\u001b[39m]\n",
      "\u001b[1;31mKeyError\u001b[0m: 'no match'"
     ]
    }
   ],
   "source": [
    "from ase.db import connect\n",
    "\n",
    "refs = connect('refs.db')\n",
    "db = connect('ads.db')\n",
    "\n",
    "for row in db.select():\n",
    "    ea = (row.energy - refs.get(formula=row.ads).energy - \n",
    "          refs.get(layers=row.layers, surf=row.surf).energy)\n",
    "    h = row.positions[-1, 2] - row.positions[-2, 2]\n",
    "    db.update(row.id, height=h, ea=ea)"
   ]
  },
  {
   "cell_type": "code",
   "execution_count": null,
   "id": "f9a25069",
   "metadata": {},
   "outputs": [],
   "source": []
  }
 ],
 "metadata": {
  "kernelspec": {
   "display_name": "Python 3 (ipykernel)",
   "language": "python",
   "name": "python3"
  },
  "language_info": {
   "codemirror_mode": {
    "name": "ipython",
    "version": 3
   },
   "file_extension": ".py",
   "mimetype": "text/x-python",
   "name": "python",
   "nbconvert_exporter": "python",
   "pygments_lexer": "ipython3",
   "version": "3.9.10"
  }
 },
 "nbformat": 4,
 "nbformat_minor": 5
}
