{
 "cells": [
  {
   "cell_type": "code",
   "execution_count": 3,
   "id": "59711cb3",
   "metadata": {},
   "outputs": [],
   "source": [
    "from ase import Atoms\n",
    "atoms = Atoms('N2', positions=[[0, 0, -1], [0, 0, 1]])\n",
    "from ase.visualize import view\n",
    "view(atoms)\n",
    "from ase.io import write\n",
    "write('myatoms.traj', atoms)"
   ]
  },
  {
   "cell_type": "code",
   "execution_count": null,
   "id": "4054e4e7",
   "metadata": {},
   "outputs": [],
   "source": []
  }
 ],
 "metadata": {
  "kernelspec": {
   "display_name": "Python 3 (ipykernel)",
   "language": "python",
   "name": "python3"
  },
  "language_info": {
   "codemirror_mode": {
    "name": "ipython",
    "version": 3
   },
   "file_extension": ".py",
   "mimetype": "text/x-python",
   "name": "python",
   "nbconvert_exporter": "python",
   "pygments_lexer": "ipython3",
   "version": "3.9.10"
  }
 },
 "nbformat": 4,
 "nbformat_minor": 5
}
