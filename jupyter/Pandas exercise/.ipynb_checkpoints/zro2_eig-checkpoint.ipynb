{
 "cells": [
  {
   "cell_type": "code",
   "execution_count": 14,
   "id": "7d666a04-25d3-489a-b7b2-ce742815b683",
   "metadata": {},
   "outputs": [
    {
     "name": "stdout",
     "output_type": "stream",
     "text": [
      "[21.225564]\n",
      "[18.687394]\n",
      "           2\n",
      "0  18.687394\n",
      "1  19.773628\n",
      "2  19.783965\n",
      "3  19.892903\n",
      "4  19.783965\n",
      "5  19.773628\n",
      "6  19.771939\n",
      "7  20.034607\n",
      "8  20.435408\n",
      "9  19.923299\n"
     ]
    }
   ],
   "source": [
    "import pandas as pd\n",
    "eig = pd.read_csv('zro2.eig',sep='\\s+', header=None, names=None,skiprows=lambda x: (x-14) % 18 != 0) #第15条能带\n",
    "eig = eig.drop([0,1],axis=1) #删除前两列，选择最后1列\n",
    "print(max(eig.values)) \n",
    "print(min(eig.values)) #第15条能带最小值=dis_froz_max\n",
    "#print(eig.info())\n",
    "print(eig.head(10))"
   ]
  },
  {
   "cell_type": "code",
   "execution_count": 20,
   "id": "a7f69143-bda5-44e5-8c79-f3daba975f66",
   "metadata": {},
   "outputs": [
    {
     "name": "stdout",
     "output_type": "stream",
     "text": [
      "[12.179713]\n",
      "[10.092125]\n",
      "[17.748116]\n",
      "[16.784411]\n"
     ]
    }
   ],
   "source": [
    "import pandas as pd\n",
    "eig = pd.read_csv('zro2.eig',sep='\\s+', header=None, names=None,skiprows=lambda x: (x-11) % 18 != 0) #第12条能带\n",
    "eig = eig.drop([0,1],axis=1) #删除前两列，选择最后1列\n",
    "print(max(eig.values))\n",
    "print(min(eig.values))\n",
    "\n",
    "import pandas as pd\n",
    "eig = pd.read_csv('zro2.eig',sep='\\s+', header=None, names=None,skiprows=lambda x: (x-12) % 18 != 0) #第13条能带\n",
    "eig = eig.drop([0,1],axis=1) #删除前两列，选择最后1列\n",
    "print(max(eig.values))\n",
    "print(min(eig.values))\n",
    "\n"
   ]
  },
  {
   "cell_type": "code",
   "execution_count": 40,
   "id": "87386997-b488-4879-82da-f66d03bc311f",
   "metadata": {},
   "outputs": [
    {
     "name": "stdout",
     "output_type": "stream",
     "text": [
      "number_bands=1,min_energy=[-38.738609],max_energy=[-38.674131] \n",
      "\n",
      "number_bands=2,min_energy=[-16.385083],max_energy=[-15.569617] \n",
      "\n",
      "number_bands=3,min_energy=[-16.051684],max_energy=[-15.569617] \n",
      "\n",
      "number_bands=4,min_energy=[-15.762215],max_energy=[-15.569617] \n",
      "\n",
      "number_bands=5,min_energy=[-8.617068],max_energy=[-6.955736] \n",
      "\n",
      "number_bands=6,min_energy=[-6.894557],max_energy=[-5.896341] \n",
      "\n",
      "number_bands=7,min_energy=[5.068302],max_energy=[7.247895] \n",
      "\n",
      "number_bands=8,min_energy=[6.117062],max_energy=[8.269125] \n",
      "\n",
      "number_bands=9,min_energy=[6.117062],max_energy=[8.952575] \n",
      "\n",
      "number_bands=10,min_energy=[8.786146],max_energy=[11.461312] \n",
      "\n",
      "number_bands=11,min_energy=[9.570503],max_energy=[11.49692] \n",
      "\n",
      "number_bands=12,min_energy=[10.092125],max_energy=[12.179713] \n",
      "\n",
      "number_bands=13,min_energy=[16.784411],max_energy=[17.748116] \n",
      "\n",
      "number_bands=14,min_energy=[16.784411],max_energy=[18.473764] \n",
      "\n",
      "number_bands=15,min_energy=[18.687394],max_energy=[21.225564] \n",
      "\n",
      "number_bands=16,min_energy=[20.543263],max_energy=[23.86056] \n",
      "\n",
      "number_bands=17,min_energy=[21.386481],max_energy=[23.86056] \n",
      "\n",
      "number_bands=18,min_energy=[21.68933],max_energy=[26.122363] \n",
      "\n"
     ]
    }
   ],
   "source": [
    "import pandas as pd\n",
    "for n in range(0,18):\n",
    "    eig = pd.read_csv('zro2.eig',sep='\\s+', header=None, names=None,skiprows=lambda x: (x-n) % 18 != 0)\n",
    "    eig = eig.drop([0,1],axis=1) #删除前两列，选择最后1列\n",
    "    print(f'number_bands={n+1},min_energy={min(eig.values)},max_energy={max(eig.values)}','\\n') \n",
    "#若根据假设，第12条是价带顶12.179713，13条是导带底16.784411\n",
    "#带隙=16.784411-12.179713=4.604698; fermi energy=价带顶=最高占据能级=12.179713???\n",
    "#fsthick>带隙=4.6???"
   ]
  },
  {
   "cell_type": "code",
   "execution_count": 19,
   "id": "81a4f2b1-d246-4d3d-9703-e58f44edf9cf",
   "metadata": {},
   "outputs": [
    {
     "name": "stdout",
     "output_type": "stream",
     "text": [
      "0    -38.680664\n",
      "1    -15.569617\n",
      "2    -15.569617\n",
      "3    -15.569617\n",
      "4     -8.617068\n",
      "5     -5.896341\n",
      "6      6.117062\n",
      "7      6.117062\n",
      "8      6.117062\n",
      "9     11.461312\n",
      "10    11.461312\n",
      "11    11.461312\n",
      "12    16.784411\n",
      "13    16.784411\n",
      "14    18.687394\n",
      "15    23.860560\n",
      "16    23.860560\n",
      "17    23.860560\n",
      "18          NaN\n",
      "19   -38.719893\n",
      "20   -15.787415\n",
      "21   -15.604457\n",
      "22   -15.604457\n",
      "23    -8.259503\n",
      "24    -6.180924\n",
      "25     6.399064\n",
      "26     6.399064\n",
      "27     6.876595\n",
      "28    10.668424\n",
      "29    10.917549\n",
      "Name: 2, dtype: float64\n"
     ]
    }
   ],
   "source": [
    "import pandas as pd\n",
    "eig = pd.read_csv('zro2.eig',sep='\\s+', header=None, names=None)\n",
    "def add_empty_rows(df, n_empty, period): #对于df表格，每隔peirod行，插入n_empty个空行\n",
    "    \"\"\" adds 'n_empty' empty rows every 'period' rows  to 'df'. \n",
    "        Returns a new DataFrame. \"\"\"\n",
    "    \n",
    "    # to make sure that the DataFrame index is a RangeIndex(start=0, stop=len(df)) \n",
    "    # and that the original df object is not mutated. \n",
    "    df = df.reset_index(drop=True)\n",
    "    \n",
    "    # length of the new DataFrame containing the NaN rows\n",
    "    len_new_index = len(df) + n_empty*(len(df) // period)\n",
    "    # index of the new DataFrame\n",
    "    new_index = pd.RangeIndex(len_new_index)\n",
    "    \n",
    "    # add an offset (= number of NaN rows up to that row) \n",
    "    # to the current df.index to align with new_index. \n",
    "    df.index += n_empty * (df.index\n",
    "                             .to_series()\n",
    "                             .groupby(df.index // period)\n",
    "                             .ngroup())\n",
    "    \n",
    "    # reindex aliging df.index with new_index. \n",
    "    # Values of new_index not present in df.index are filled with NaN.\n",
    "    new_df = df.reindex(new_index)\n",
    "    \n",
    "    return new_df\n",
    "eig_new = add_empty_rows(eig, 1, 18)\n",
    "eig_new = eig_new.iloc[:,-1]\n",
    "print(eig_new.head(30))\n",
    "eig_new.to_csv('zro2_new.eig', index=False)"
   ]
  },
  {
   "cell_type": "code",
   "execution_count": null,
   "id": "5884d8fa-6aeb-4d1a-bc57-c2530d685fd8",
   "metadata": {},
   "outputs": [],
   "source": []
  }
 ],
 "metadata": {
  "kernelspec": {
   "display_name": "Python 3 (ipykernel)",
   "language": "python",
   "name": "python3"
  },
  "language_info": {
   "codemirror_mode": {
    "name": "ipython",
    "version": 3
   },
   "file_extension": ".py",
   "mimetype": "text/x-python",
   "name": "python",
   "nbconvert_exporter": "python",
   "pygments_lexer": "ipython3",
   "version": "3.9.7"
  }
 },
 "nbformat": 4,
 "nbformat_minor": 5
}
