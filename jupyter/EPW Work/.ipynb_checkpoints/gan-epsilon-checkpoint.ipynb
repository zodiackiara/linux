{
 "cells": [
  {
   "cell_type": "code",
   "execution_count": 11,
   "id": "d68357a0-a90f-4479-88b5-2b4b604ce0ac",
   "metadata": {},
   "outputs": [
    {
     "name": "stdout",
     "output_type": "stream",
     "text": [
      "[-0.8329108688475855, -0.7639437268410977, -0.08867203972262737, 1.6855266354113108]\n",
      "[1, 2, 3, 4]\n"
     ]
    }
   ],
   "source": [
    "import pykk\n",
    "\n",
    "energy = [1, 2, 3, 4]  # the values MUST have the same intervals\n",
    "real = [1, 2, 3, 4]\n",
    "\n",
    "imag = pykk.real2imag(energy, real)  # real -> imaginary part\n",
    "real_kk = pykk.imag2real(energy, imag)  # imaginary -> real part\n",
    "print (imag)\n",
    "print (energy)"
   ]
  },
  {
   "cell_type": "code",
   "execution_count": 2,
   "id": "e1c1ae5a-1d80-45c4-a0f7-992caac71492",
   "metadata": {},
   "outputs": [
    {
     "name": "stdout",
     "output_type": "stream",
     "text": [
      "      energy  epsilon1  epsilon2\n",
      "0       0.10  4.344902  5.255215\n",
      "1       0.11  2.159369  2.082444\n",
      "2       0.12  2.425684  0.121040\n",
      "3       0.13  3.139788  0.000845\n",
      "4       0.14  3.618064  0.001302\n",
      "...      ...       ...       ...\n",
      "1226   12.36 -5.431348  4.172007\n",
      "1227   12.37 -5.556436  3.702898\n",
      "1228   12.38 -6.057562  4.946726\n",
      "1229   12.39 -7.227780  4.672859\n",
      "1230   12.40 -8.640275  4.181572\n",
      "\n",
      "[1231 rows x 3 columns]\n"
     ]
    }
   ],
   "source": [
    "import pykk\n",
    "import pandas as pd\n",
    "dirabs = pd.read_csv('gan_epsilon2_dirabs_300.0K.dat',sep='\\s+', header=None, names=None,skiprows=[0,1])\n",
    "\n",
    "#dirabs_energy = dirabs.drop([1,2,3,4],axis=1)\n",
    "dirabs_energy = dirabs[0].tolist()\n",
    "#print(energy)\n",
    "\n",
    "#dirabs_imag = dirabs.drop([0,1,2,3],axis=1)\n",
    "dirabs_imag = dirabs[4].tolist()\n",
    "#print(dirabs_imag)\n",
    "\n",
    "dirabs_real = pykk.imag2real(dirabs_energy,dirabs_imag) \n",
    "#print(real)\n",
    "\n",
    "dirabs_real = pd.Series(dirabs_real)\n",
    "dirabs_real = dirabs_real.T\n",
    "#print (real)\n",
    "\n",
    "dirabs = pd.DataFrame({'energy':dirabs_energy,'epsilon1':dirabs_real,'epsilon2':dirabs_imag})\n",
    "print (dirabs)\n",
    "\n",
    "dirabs.to_csv('gan_dirabs_300K.txt',sep=' ',index=0)"
   ]
  },
  {
   "cell_type": "code",
   "execution_count": 43,
   "id": "68f5047f-e929-4bf1-bbf3-965b44b1401b",
   "metadata": {},
   "outputs": [
    {
     "name": "stdout",
     "output_type": "stream",
     "text": [
      "      energy   epsilon1   epsilon2\n",
      "0       0.10  22.770740  17.120785\n",
      "1       0.11  15.653543  10.421065\n",
      "2       0.12  14.611609   5.858210\n",
      "3       0.13  14.867847   5.069146\n",
      "4       0.14  15.073714   3.916130\n",
      "...      ...        ...        ...\n",
      "1226   12.36  -7.085089   0.000000\n",
      "1227   12.37  -7.064424   0.000000\n",
      "1228   12.38  -7.043879   0.000000\n",
      "1229   12.39  -7.023453   0.000000\n",
      "1230   12.40  -7.003145   0.000000\n",
      "\n",
      "[1231 rows x 3 columns]\n"
     ]
    }
   ],
   "source": [
    "import pandas as pd\n",
    "indabs = pd.read_csv('gan_epsilon2_indabs_300.0K.dat',sep='\\s+', header=None, names=None,skiprows=[0,1])\n",
    "\n",
    "#indabs_energy = indabs.drop([1,2,3,4],axis=1)\n",
    "indabs_energy = indabs[0].tolist()\n",
    "#print(energy)\n",
    "\n",
    "#indabs_imag = indabs.drop([0,1,2,3],axis=1)\n",
    "indabs_imag = indabs[4].tolist() #这个数字对应选择不同展宽值[0.001,0.002,0.005,0.01,0.02,0.05,0.1,0.2,0.5]\n",
    "#与实验文献中的epsilon2对比，选择epsilon2最接近的展宽值\n",
    "#print(indabs_imag)\n",
    "\n",
    "indabs_real = pykk.imag2real(indabs_energy,indabs_imag) \n",
    "#print(real)\n",
    "\n",
    "indabs_real = pd.Series(indabs_real)\n",
    "indabs_real = indabs_real.T\n",
    "#print (real)\n",
    "\n",
    "indabs = pd.DataFrame({'energy':indabs_energy,'epsilon1':indabs_real,'epsilon2':indabs_imag})\n",
    "print (indabs)\n",
    "\n",
    "indabs.to_csv('gan_indabs_300K.txt',sep=' ',index=0)"
   ]
  },
  {
   "cell_type": "code",
   "execution_count": 5,
   "id": "7e0230bb-efcc-42a0-8a82-49025d885379",
   "metadata": {},
   "outputs": [
    {
     "name": "stdout",
     "output_type": "stream",
     "text": [
      "      energy  epsilon1  epsilon2\n",
      "0       0.10  4.344902  5.255215\n",
      "1       0.11  2.159369  2.082444\n",
      "2       0.12  2.425684  0.121040\n",
      "3       0.13  3.139788  0.000845\n",
      "4       0.14  3.618064  0.001302\n",
      "...      ...       ...       ...\n",
      "1226   12.36 -5.431348  4.172007\n",
      "1227   12.37 -5.556436  3.702898\n",
      "1228   12.38 -6.057562  4.946726\n",
      "1229   12.39 -7.227780  4.672859\n",
      "1230   12.40 -8.640275  4.181572\n",
      "\n",
      "[1231 rows x 3 columns]\n",
      "      energy   epsilon1   epsilon2\n",
      "0       0.10  12.204252  10.455929\n",
      "1       0.11   7.770805   6.623830\n",
      "2       0.12   7.052146   3.592639\n",
      "3       0.13   7.258080   3.102077\n",
      "4       0.14   7.420936   2.451579\n",
      "...      ...        ...        ...\n",
      "1226   12.36  -3.520902   0.000000\n",
      "1227   12.37  -3.510630   0.000000\n",
      "1228   12.38  -3.500418   0.000000\n",
      "1229   12.39  -3.490266   0.000000\n",
      "1230   12.40  -3.480172   0.000000\n",
      "\n",
      "[1231 rows x 3 columns]\n"
     ]
    }
   ],
   "source": [
    "import pykk\n",
    "import pandas as pd\n",
    "\n",
    "dirabs = pd.read_csv('gan_epsilon2_dirabs_300.0K.dat',sep='\\s+', header=None, names=None,skiprows=[0,1])\n",
    "\n",
    "dirabs_energy = dirabs[0].tolist()\n",
    "dirabs_imag = dirabs[4].tolist()\n",
    "\n",
    "dirabs_real = pykk.imag2real(dirabs_energy,dirabs_imag) \n",
    "dirabs_real = pd.Series(dirabs_real)\n",
    "dirabs_real = dirabs_real.T\n",
    "\n",
    "dirabs = pd.DataFrame({'energy':dirabs_energy,'epsilon1':dirabs_real,'epsilon2':dirabs_imag})\n",
    "print (dirabs)\n",
    "\n",
    "dirabs.to_csv('gan_dirabs_300K.txt',sep=' ',index=0)\n",
    "\n",
    "indabs = pd.read_csv('gan_epsilon2_indabs_300.0K.dat',sep='\\s+', header=None, names=None,skiprows=[0,1])\n",
    "\n",
    "indabs_energy = indabs[0].tolist()\n",
    "indabs_imag = indabs[6].tolist()\n",
    "#这个数字对应选择不同展宽值[0.001,0.002,0.005,0.01,0.02,0.05,0.1,0.2,0.5]\n",
    "#与实验文献中的epsilon2对比，选择epsilon2最接近的展宽值\n",
    "\n",
    "indabs_real = pykk.imag2real(indabs_energy,indabs_imag) \n",
    "indabs_real = pd.Series(indabs_real)\n",
    "indabs_real = indabs_real.T\n",
    "\n",
    "indabs = pd.DataFrame({'energy':indabs_energy,'epsilon1':indabs_real,'epsilon2':indabs_imag})\n",
    "print (indabs)\n",
    "\n",
    "indabs.to_csv('gan_indabs_300K.txt',sep=' ',index=0)"
   ]
  },
  {
   "cell_type": "code",
   "execution_count": null,
   "id": "c7eed0f7-53a6-4533-b0c8-8e02e0e3e6bd",
   "metadata": {},
   "outputs": [],
   "source": []
  }
 ],
 "metadata": {
  "kernelspec": {
   "display_name": "Python 3 (ipykernel)",
   "language": "python",
   "name": "python3"
  },
  "language_info": {
   "codemirror_mode": {
    "name": "ipython",
    "version": 3
   },
   "file_extension": ".py",
   "mimetype": "text/x-python",
   "name": "python",
   "nbconvert_exporter": "python",
   "pygments_lexer": "ipython3",
   "version": "3.9.7"
  }
 },
 "nbformat": 4,
 "nbformat_minor": 5
}
