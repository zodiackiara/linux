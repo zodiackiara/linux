{
 "cells": [
  {
   "cell_type": "code",
   "execution_count": 2,
   "id": "55ab43b1",
   "metadata": {},
   "outputs": [],
   "source": [
    "#读写结构文件，实现删除原子，扩胞\n",
    "from ase.io import read,write\n",
    "from ase.visualize import view\n",
    "atoms=read('NaCl.poscar')\n",
    "\n",
    "del atoms[[atom.index for atom in atoms if atom.symbol=='H']] #删除所有H原子\n",
    "atoms=atoms*(10,10,10)  #扩为超胞，1000倍\n",
    "view(atoms)\n",
    "from ase.build import sort \n",
    "#对于多元素的结构，ase建超胞之后，须sort然后输出\n",
    "write('CONTCAR',sort(atoms),direct=True) # sort chemical symbols"
   ]
  },
  {
   "cell_type": "code",
   "execution_count": 6,
   "id": "bef230d3",
   "metadata": {},
   "outputs": [
    {
     "name": "stdout",
     "output_type": "stream",
     "text": [
      "-26.94189431\n"
     ]
    }
   ],
   "source": [
    "#Calculators:Vasp\n",
    "from ase.calculators.vasp import Vasp\n",
    "calc = Vasp(istart=0,\n",
    "            icharg=2,\n",
    "            prec='Accurate',\n",
    "            encut=400,\n",
    "            ismear=1,\n",
    "            sigma=0.2,\n",
    "            xc='PBE',\n",
    "            lreal='Auto',\n",
    "            gamma=1,\n",
    "            kpts=(7,7,1),\n",
    "            ispin=1,\n",
    "            ediff=1E-05,\n",
    "            lwave=False,\n",
    "            lcharg=False,\n",
    "           directory='./NaCl')\n",
    "\n",
    "from ase.io import read,write\n",
    "from ase.visualize import view\n",
    "atoms=read('NaCl.poscar')\n",
    "\n",
    "atoms.calc = calc\n",
    "print(atoms.get_potential_energy())"
   ]
  },
  {
   "cell_type": "code",
   "execution_count": null,
   "id": "c5cdfd42",
   "metadata": {},
   "outputs": [],
   "source": [
    "#Ase转换文件格式命令\n",
    "ase convert -i mol -o xyz 1.mol POSCAR.xyz"
   ]
  }
 ],
 "metadata": {
  "kernelspec": {
   "display_name": "Python 3 (ipykernel)",
   "language": "python",
   "name": "python3"
  },
  "language_info": {
   "codemirror_mode": {
    "name": "ipython",
    "version": 3
   },
   "file_extension": ".py",
   "mimetype": "text/x-python",
   "name": "python",
   "nbconvert_exporter": "python",
   "pygments_lexer": "ipython3",
   "version": "3.9.7"
  }
 },
 "nbformat": 4,
 "nbformat_minor": 5
}
