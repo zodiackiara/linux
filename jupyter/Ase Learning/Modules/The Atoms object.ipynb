{
 "cells": [
  {
   "cell_type": "code",
   "execution_count": 12,
   "id": "d9a1aa55",
   "metadata": {},
   "outputs": [
    {
     "data": {
      "text/plain": [
       "<Popen: returncode: None args: ['C:\\\\Softwares\\\\Miniconda\\\\python.exe', '-m'...>"
      ]
     },
     "execution_count": 12,
     "metadata": {},
     "output_type": "execute_result"
    }
   ],
   "source": [
    "from ase import Atoms\n",
    "atoms = Atoms('N3', [(0, 0, 0), (1, 0, 0), (0, 0, 1)])\n",
    "\n",
    "atoms.positions *= 2\n",
    "atoms.positions[1] = (1, 1, 0)\n",
    "atoms.numbers[0] = 13\n",
    "atoms.symbols[2] = 'Cu'\n",
    "atoms.pbc[2] = 1\n",
    "atoms.pbc\n",
    "\n",
    "from ase.visualize import view\n",
    "view(atoms)"
   ]
  },
  {
   "cell_type": "code",
   "execution_count": 13,
   "id": "ab5e9865",
   "metadata": {},
   "outputs": [
    {
     "data": {
      "text/plain": [
       "<Popen: returncode: None args: ['C:\\\\Softwares\\\\Miniconda\\\\python.exe', '-m'...>"
      ]
     },
     "execution_count": 13,
     "metadata": {},
     "output_type": "execute_result"
    }
   ],
   "source": [
    "atoms.cell = [2.5, 2.5, 15, 90, 90, 120]\n",
    "from ase.visualize import view\n",
    "view(atoms)"
   ]
  },
  {
   "cell_type": "code",
   "execution_count": 15,
   "id": "2c1ac627",
   "metadata": {},
   "outputs": [
    {
     "data": {
      "text/plain": [
       "Symbols('C2O')"
      ]
     },
     "execution_count": 15,
     "metadata": {},
     "output_type": "execute_result"
    }
   ],
   "source": [
    "from ase.build import molecule\n",
    "atoms = molecule('CH3CH2OH')\n",
    "del atoms[[atom.index for atom in atoms if atom.symbol=='H']]\n",
    "atoms.symbols"
   ]
  },
  {
   "cell_type": "code",
   "execution_count": 16,
   "id": "9bba032f",
   "metadata": {},
   "outputs": [
    {
     "data": {
      "text/plain": [
       "<Popen: returncode: None args: ['C:\\\\Softwares\\\\Miniconda\\\\python.exe', '-m'...>"
      ]
     },
     "execution_count": 16,
     "metadata": {},
     "output_type": "execute_result"
    }
   ],
   "source": [
    "a = 4.05\n",
    "b = a / 2\n",
    "fcc = Atoms('Au',\n",
    "            cell=[(0, b, b), (b, 0, b), (b, b, 0)],\n",
    "            pbc=True)\n",
    "from ase.visualize import view\n",
    "view(atoms)"
   ]
  },
  {
   "cell_type": "code",
   "execution_count": null,
   "id": "59e99e2d",
   "metadata": {},
   "outputs": [],
   "source": []
  }
 ],
 "metadata": {
  "kernelspec": {
   "display_name": "Python 3 (ipykernel)",
   "language": "python",
   "name": "python3"
  },
  "language_info": {
   "codemirror_mode": {
    "name": "ipython",
    "version": 3
   },
   "file_extension": ".py",
   "mimetype": "text/x-python",
   "name": "python",
   "nbconvert_exporter": "python",
   "pygments_lexer": "ipython3",
   "version": "3.9.10"
  }
 },
 "nbformat": 4,
 "nbformat_minor": 5
}
