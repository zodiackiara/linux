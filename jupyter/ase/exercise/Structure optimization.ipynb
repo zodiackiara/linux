{
 "cells": [
  {
   "cell_type": "code",
   "execution_count": 1,
   "id": "e7b92289",
   "metadata": {},
   "outputs": [
    {
     "name": "stdout",
     "output_type": "stream",
     "text": [
      "      Step     Time          Energy         fmax\n",
      "BFGS:    0 17:38:39        2.769632        8.6091\n",
      "BFGS:    1 17:38:39        1.930507        1.6415\n",
      "BFGS:    2 17:38:39        1.884227        0.5354\n",
      "BFGS:    3 17:38:39        1.879314        0.0496\n"
     ]
    },
    {
     "data": {
      "text/plain": [
       "True"
      ]
     },
     "execution_count": 1,
     "metadata": {},
     "output_type": "execute_result"
    }
   ],
   "source": [
    "from ase import Atoms\n",
    "from ase.optimize import BFGS\n",
    "from ase.calculators.emt import EMT\n",
    "import numpy as np\n",
    "d = 0.9575\n",
    "t = np.pi / 180 * 104.51\n",
    "water = Atoms('H2O',\n",
    "              positions=[(d, 0, 0),\n",
    "                         (d * np.cos(t), d * np.sin(t), 0),\n",
    "                         (0, 0, 0)],\n",
    "              calculator=EMT())\n",
    "dyn = BFGS(water)\n",
    "dyn.run(fmax=0.05)"
   ]
  },
  {
   "cell_type": "code",
   "execution_count": 2,
   "id": "a762c845",
   "metadata": {},
   "outputs": [
    {
     "name": "stdout",
     "output_type": "stream",
     "text": [
      "      Step     Time          Energy         fmax\n",
      "BFGS:    0 17:41:16        2.769632        8.6091\n",
      "BFGS:    1 17:41:16        1.930507        1.6415\n",
      "BFGS:    2 17:41:16        1.884227        0.5354\n",
      "BFGS:    3 17:41:16        1.879314        0.0496\n"
     ]
    },
    {
     "data": {
      "text/plain": [
       "True"
      ]
     },
     "execution_count": 2,
     "metadata": {},
     "output_type": "execute_result"
    }
   ],
   "source": [
    "from ase import Atoms\n",
    "from ase.optimize import BFGS\n",
    "from ase.calculators.emt import EMT\n",
    "import numpy as np\n",
    "d = 0.9575\n",
    "t = np.pi / 180 * 104.51\n",
    "water = Atoms('H2O',\n",
    "              positions=[(d, 0, 0),\n",
    "                         (d * np.cos(t), d * np.sin(t), 0),\n",
    "                         (0, 0, 0)],\n",
    "              calculator=EMT())\n",
    "dyn = BFGS(water,trajectory='H2O.traj') #保存的轨迹文件可以在conda内用ase gui H2O.traj命令查看\n",
    "dyn.run(fmax=0.05)"
   ]
  },
  {
   "cell_type": "code",
   "execution_count": null,
   "id": "dea4091a",
   "metadata": {},
   "outputs": [],
   "source": []
  },
  {
   "cell_type": "code",
   "execution_count": null,
   "id": "a4ae7481",
   "metadata": {},
   "outputs": [],
   "source": []
  }
 ],
 "metadata": {
  "kernelspec": {
   "display_name": "Python 3 (ipykernel)",
   "language": "python",
   "name": "python3"
  },
  "language_info": {
   "codemirror_mode": {
    "name": "ipython",
    "version": 3
   },
   "file_extension": ".py",
   "mimetype": "text/x-python",
   "name": "python",
   "nbconvert_exporter": "python",
   "pygments_lexer": "ipython3",
   "version": "3.9.7"
  }
 },
 "nbformat": 4,
 "nbformat_minor": 5
}
