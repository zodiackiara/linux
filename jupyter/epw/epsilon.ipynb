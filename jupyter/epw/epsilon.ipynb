{
 "cells": [
  {
   "cell_type": "code",
   "execution_count": 56,
   "id": "a5eab9bb-00c0-4db0-9999-1c54623fe0bb",
   "metadata": {},
   "outputs": [],
   "source": [
    "import pykk\n",
    "import pandas as pd\n",
    "import os\n",
    "\n",
    "#可以读入任何文件名包含epsilon2_dirabs的文件，依次处理后输出对应epsilon_dirabs文件，适合用于计算不同温度输出文件\n",
    "#对于直接吸收文件，只需读取第4列的平均介电虚部\n",
    "for file in os.listdir('.'):\n",
    "    if 'epsilon2_dirabs' in file:\n",
    "        dirabs = pd.read_csv(file,sep='\\s+', header=None, names=None,skiprows=[0,1])\n",
    "        dirabs_energy = dirabs[0].tolist()\n",
    "        dirabs_imag = dirabs[4].tolist()\n",
    "        dirabs_real = pykk.imag2real(dirabs_energy,dirabs_imag) \n",
    "        dirabs_real = pd.Series(dirabs_real)\n",
    "        dirabs_real = dirabs_real.T\n",
    "        dirabs = pd.DataFrame({'energy':dirabs_energy,'real':dirabs_real,'imag':dirabs_imag})\n",
    "        filename, extension = os.path.splitext(file)\n",
    "        filename = filename.split(\"_\")\n",
    "        dirabs.to_csv(f'epsilon_dirabs_{filename[2]}.dat',sep=' ',index=0)\n",
    "\n",
    "#可以读入任何文件名包含epsilon2_indabs的文件，依次处理后输出对应epsilon_indabs文件，适合用于计算不同温度输出文件\n",
    "#python均从0开始计数，能量所在列记为第1列，首先保存为dataframe，避免循环中反复被添加\n",
    "#real = 'real_{}'.format(i)：字符串中引用循环变量的方法\n",
    "#间接吸收文件中，高斯展宽值：0.001,0.002,0.005,0.01,0.02,0.05,0.1,0.2,0.5，每一个高斯展宽值对应不同的介电虚部\n",
    "#indabs_real = pykk.imag2real(indabs_energy,indabs_imag)：使用介电虚部得到节点实部的办法\n",
    "#df = df.join(df_new)：dataframe数据添加到新列而不是文件末尾的方法\n",
    "#for n, i in enumerate([...])：得到两个循环变量，n为从0开始的计数值，i为数组中的值\n",
    "for file in os.listdir('.'):\n",
    "    if 'epsilon2_indabs' in file:\n",
    "        indabs = pd.read_csv(file,sep='\\s+', header=None, names=None,skiprows=[0,1])\n",
    "        indabs_energy = indabs[0].tolist()\n",
    "        df = pd.DataFrame({'energy':indabs_energy})\n",
    "        for n, i in enumerate([0.001,0.002,0.005,0.01,0.02,0.05,0.1,0.2,0.5]):\n",
    "            real = 'real_{}'.format(i)\n",
    "            imag = 'imag_{}'.format(i)\n",
    "            indabs_real = 'indabs_real_{}'.format(i)\n",
    "            indabs_imag = 'indabs_imag_{}'.format(i)\n",
    "            indabs_imag = indabs[n+1].tolist()\n",
    "            indabs_real = pykk.imag2real(indabs_energy,indabs_imag) \n",
    "            indabs_real = pd.Series(indabs_real)\n",
    "            indabs_real = indabs_real.T\n",
    "            df_new = pd.DataFrame({real:indabs_real,imag:indabs_imag})\n",
    "            df = df.join(df_new)\n",
    "            filename, extension = os.path.splitext(file)\n",
    "            filename = filename.split(\"_\")\n",
    "            df.to_csv(f'epsilon_indabs_{filename[2]}.dat',sep=' ',index=0)"
   ]
  },
  {
   "cell_type": "code",
   "execution_count": 20,
   "id": "6cf1f1b5-3f20-4548-85bf-1725c4346124",
   "metadata": {},
   "outputs": [
    {
     "name": "stdout",
     "output_type": "stream",
     "text": [
      "      energy   epsilon1   epsilon2\n",
      "0       0.10  22.770740  17.120785\n",
      "1       0.11  15.653543  10.421065\n",
      "2       0.12  14.611609   5.858210\n",
      "3       0.13  14.867847   5.069146\n",
      "4       0.14  15.073714   3.916130\n",
      "...      ...        ...        ...\n",
      "1226   12.36  -7.085089   0.000000\n",
      "1227   12.37  -7.064424   0.000000\n",
      "1228   12.38  -7.043879   0.000000\n",
      "1229   12.39  -7.023453   0.000000\n",
      "1230   12.40  -7.003145   0.000000\n",
      "\n",
      "[1231 rows x 3 columns]\n"
     ]
    }
   ],
   "source": [
    "import pandas as pd\n",
    "indabs = pd.read_csv('epsilon2_indabs_300.0K.dat',sep='\\s+', header=None, names=None,skiprows=[0,1])\n",
    "\n",
    "#indabs_energy = indabs.drop([1,2,3,4],axis=1)\n",
    "indabs_energy = indabs[0].tolist()\n",
    "#print(energy)\n",
    "\n",
    "#indabs_imag = indabs.drop([0,1,2,3],axis=1)\n",
    "indabs_imag = indabs[4].tolist() #这个数字对应选择不同展宽值[0.001,0.002,0.005,0.01,0.02,0.05,0.1,0.2,0.5]\n",
    "#与实验文献中的epsilon2对比，选择epsilon2最接近的展宽值\n",
    "#print(indabs_imag)\n",
    "\n",
    "indabs_real = pykk.imag2real(indabs_energy,indabs_imag) \n",
    "#print(real)\n",
    "\n",
    "indabs_real = pd.Series(indabs_real)\n",
    "indabs_real = indabs_real.T\n",
    "#print (real)\n",
    "\n",
    "indabs = pd.DataFrame({'energy':indabs_energy,'epsilon1':indabs_real,'epsilon2':indabs_imag})\n",
    "print (indabs)\n",
    "\n",
    "indabs.to_csv('epsilon_indabs_300K.dat',sep=' ',index=0)"
   ]
  },
  {
   "cell_type": "code",
   "execution_count": 44,
   "id": "a5145f10-87ba-4338-a9b3-ac470959e42f",
   "metadata": {},
   "outputs": [
    {
     "name": "stdout",
     "output_type": "stream",
     "text": [
      "epsilon2_dirabs_300.0K\n"
     ]
    },
    {
     "data": {
      "text/plain": [
       "\u001b[0;31mSignature:\u001b[0m \u001b[0mos\u001b[0m\u001b[0;34m.\u001b[0m\u001b[0mpath\u001b[0m\u001b[0;34m.\u001b[0m\u001b[0msplitext\u001b[0m\u001b[0;34m(\u001b[0m\u001b[0mp\u001b[0m\u001b[0;34m)\u001b[0m\u001b[0;34m\u001b[0m\u001b[0;34m\u001b[0m\u001b[0m\n",
       "\u001b[0;31mDocstring:\u001b[0m\n",
       "Split the extension from a pathname.\n",
       "\n",
       "Extension is everything from the last dot to the end, ignoring\n",
       "leading dots.  Returns \"(root, ext)\"; ext may be empty.\n",
       "\u001b[0;31mSource:\u001b[0m   \n",
       "\u001b[0;32mdef\u001b[0m \u001b[0msplitext\u001b[0m\u001b[0;34m(\u001b[0m\u001b[0mp\u001b[0m\u001b[0;34m)\u001b[0m\u001b[0;34m:\u001b[0m\u001b[0;34m\u001b[0m\n",
       "\u001b[0;34m\u001b[0m    \u001b[0mp\u001b[0m \u001b[0;34m=\u001b[0m \u001b[0mos\u001b[0m\u001b[0;34m.\u001b[0m\u001b[0mfspath\u001b[0m\u001b[0;34m(\u001b[0m\u001b[0mp\u001b[0m\u001b[0;34m)\u001b[0m\u001b[0;34m\u001b[0m\n",
       "\u001b[0;34m\u001b[0m    \u001b[0;32mif\u001b[0m \u001b[0misinstance\u001b[0m\u001b[0;34m(\u001b[0m\u001b[0mp\u001b[0m\u001b[0;34m,\u001b[0m \u001b[0mbytes\u001b[0m\u001b[0;34m)\u001b[0m\u001b[0;34m:\u001b[0m\u001b[0;34m\u001b[0m\n",
       "\u001b[0;34m\u001b[0m        \u001b[0msep\u001b[0m \u001b[0;34m=\u001b[0m \u001b[0;34mb'/'\u001b[0m\u001b[0;34m\u001b[0m\n",
       "\u001b[0;34m\u001b[0m        \u001b[0mextsep\u001b[0m \u001b[0;34m=\u001b[0m \u001b[0;34mb'.'\u001b[0m\u001b[0;34m\u001b[0m\n",
       "\u001b[0;34m\u001b[0m    \u001b[0;32melse\u001b[0m\u001b[0;34m:\u001b[0m\u001b[0;34m\u001b[0m\n",
       "\u001b[0;34m\u001b[0m        \u001b[0msep\u001b[0m \u001b[0;34m=\u001b[0m \u001b[0;34m'/'\u001b[0m\u001b[0;34m\u001b[0m\n",
       "\u001b[0;34m\u001b[0m        \u001b[0mextsep\u001b[0m \u001b[0;34m=\u001b[0m \u001b[0;34m'.'\u001b[0m\u001b[0;34m\u001b[0m\n",
       "\u001b[0;34m\u001b[0m    \u001b[0;32mreturn\u001b[0m \u001b[0mgenericpath\u001b[0m\u001b[0;34m.\u001b[0m\u001b[0m_splitext\u001b[0m\u001b[0;34m(\u001b[0m\u001b[0mp\u001b[0m\u001b[0;34m,\u001b[0m \u001b[0msep\u001b[0m\u001b[0;34m,\u001b[0m \u001b[0;32mNone\u001b[0m\u001b[0;34m,\u001b[0m \u001b[0mextsep\u001b[0m\u001b[0;34m)\u001b[0m\u001b[0;34m\u001b[0m\u001b[0;34m\u001b[0m\u001b[0m\n",
       "\u001b[0;31mFile:\u001b[0m      /usr/local/miniconda3/lib/python3.9/posixpath.py\n",
       "\u001b[0;31mType:\u001b[0m      function\n"
      ]
     },
     "metadata": {},
     "output_type": "display_data"
    }
   ],
   "source": [
    "for filename in os.listdir('.'):\n",
    "    if 'epsilon2_dirabs' in filename:\n",
    "        file = os.path.splitext(filename)\n",
    "        print(file[0])\n",
    "os.path.splitext??"
   ]
  },
  {
   "cell_type": "code",
   "execution_count": 50,
   "id": "788ea46d-edf4-4649-b615-c25a3ef2fbb2",
   "metadata": {},
   "outputs": [
    {
     "name": "stdout",
     "output_type": "stream",
     "text": [
      "300.0K\n"
     ]
    }
   ],
   "source": [
    "for file in os.listdir('.'):\n",
    "    if 'epsilon2_dirabs' in file:\n",
    "        filename, extension = os.path.splitext(file)\n",
    "        epsilon, dirabs, temps = filename.split(\"_\")\n",
    "        print(temps)"
   ]
  },
  {
   "cell_type": "code",
   "execution_count": null,
   "id": "4ce359d1-59fb-4149-98f7-8b87897eea76",
   "metadata": {},
   "outputs": [],
   "source": []
  }
 ],
 "metadata": {
  "kernelspec": {
   "display_name": "Python 3 (ipykernel)",
   "language": "python",
   "name": "python3"
  },
  "language_info": {
   "codemirror_mode": {
    "name": "ipython",
    "version": 3
   },
   "file_extension": ".py",
   "mimetype": "text/x-python",
   "name": "python",
   "nbconvert_exporter": "python",
   "pygments_lexer": "ipython3",
   "version": "3.9.7"
  }
 },
 "nbformat": 4,
 "nbformat_minor": 5
}
