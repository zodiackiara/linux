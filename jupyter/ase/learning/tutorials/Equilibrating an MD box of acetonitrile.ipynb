{
 "cells": [
  {
   "cell_type": "code",
   "execution_count": null,
   "id": "17890196",
   "metadata": {},
   "outputs": [
    {
     "name": "stderr",
     "output_type": "stream",
     "text": [
      "C:\\Softwares\\Miniconda\\lib\\site-packages\\ase\\md\\md.py:48: FutureWarning: Specify the temperature in K using the 'temperature_K' argument\n",
      "  warnings.warn(FutureWarning(w))\n"
     ]
    }
   ],
   "source": [
    "from ase import Atoms\n",
    "from ase.constraints import FixLinearTriatomic\n",
    "from ase.calculators.acn import (ACN, m_me,r_mec, r_cn)\n",
    "from ase.md import Langevin\n",
    "import ase.units as units\n",
    "from ase.io import Trajectory\n",
    "import numpy as np\n",
    "\n",
    "\n",
    "pos = [[0, 0, -r_mec],\n",
    "       [0, 0, 0],\n",
    "       [0, 0, r_cn]]\n",
    "atoms = Atoms('CCN', positions=pos)\n",
    "atoms.rotate(30, 'x')\n",
    "\n",
    "masses = atoms.get_masses()\n",
    "masses[::3] = m_me\n",
    "atoms.set_masses(masses)\n",
    "\n",
    "d = 0.776 / 1e24\n",
    "L = ((masses.sum() / units.mol) / d)**(1 / 3.)\n",
    "atoms.set_cell((L, L, L))\n",
    "atoms.center()\n",
    "atoms = atoms.repeat((3, 3, 3))\n",
    "atoms.set_pbc(True)\n",
    "\n",
    "nm = 27\n",
    "atoms.constraints = FixLinearTriatomic(\n",
    "    triples=[(3 * i, 3 * i + 1, 3 * i + 2)\n",
    "             for i in range(nm)])\n",
    "\n",
    "tag = 'acn_27mol_300K'\n",
    "atoms.calc = ACN(rc=np.min(np.diag(atoms.cell)) / 2)\n",
    "\n",
    "md = Langevin(atoms, 1 * units.fs,\n",
    "              temperature=300 * units.kB,\n",
    "              friction=0.01,\n",
    "              logfile=tag + '.log')\n",
    "\n",
    "traj = Trajectory(tag + '.traj', 'w', atoms)\n",
    "md.attach(traj.write, interval=1)\n",
    "md.run(5000)\n",
    "\n",
    "atoms.set_constraint()\n",
    "atoms = atoms.repeat((2, 2, 2))\n",
    "nm = 216\n",
    "atoms.constraints = FixLinearTriatomic(\n",
    "    triples=[(3 * i, 3 * i + 1, 3 * i + 2)\n",
    "             for i in range(nm)])\n",
    "\n",
    "tag = 'acn_216mol_300K'\n",
    "atoms.calc = ACN(rc=np.min(np.diag(atoms.cell)) / 2)\n",
    "\n",
    "md = Langevin(atoms, 2 * units.fs,\n",
    "              temperature=300 * units.kB,\n",
    "              friction=0.01,\n",
    "              logfile=tag + '.log')\n",
    "\n",
    "traj = Trajectory(tag + '.traj', 'w', atoms)\n",
    "md.attach(traj.write, interval=1)\n",
    "md.run(3000)"
   ]
  },
  {
   "cell_type": "code",
   "execution_count": null,
   "id": "6587af49",
   "metadata": {},
   "outputs": [],
   "source": []
  }
 ],
 "metadata": {
  "kernelspec": {
   "display_name": "Python 3 (ipykernel)",
   "language": "python",
   "name": "python3"
  },
  "language_info": {
   "codemirror_mode": {
    "name": "ipython",
    "version": 3
   },
   "file_extension": ".py",
   "mimetype": "text/x-python",
   "name": "python",
   "nbconvert_exporter": "python",
   "pygments_lexer": "ipython3",
   "version": "3.9.10"
  }
 },
 "nbformat": 4,
 "nbformat_minor": 5
}
