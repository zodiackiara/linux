{
 "cells": [
  {
   "cell_type": "code",
   "execution_count": 2,
   "id": "f23d0681",
   "metadata": {},
   "outputs": [
    {
     "data": {
      "text/plain": [
       "Cell([[0.0, 2.04, 2.04], [2.04, 0.0, 2.04], [2.04, 2.04, 0.0]])"
      ]
     },
     "execution_count": 2,
     "metadata": {},
     "output_type": "execute_result"
    }
   ],
   "source": [
    "from ase.build import bulk\n",
    "cell=bulk('Au').cell\n",
    "cell"
   ]
  },
  {
   "cell_type": "code",
   "execution_count": 3,
   "id": "8bb3dba8",
   "metadata": {},
   "outputs": [
    {
     "data": {
      "text/plain": [
       "array([[0.  , 2.04, 2.04],\n",
       "       [2.04, 0.  , 2.04],\n",
       "       [2.04, 2.04, 0.  ]])"
      ]
     },
     "execution_count": 3,
     "metadata": {},
     "output_type": "execute_result"
    }
   ],
   "source": [
    "from ase.build import bulk\n",
    "cell=bulk('Au').cell\n",
    "cell[:]"
   ]
  },
  {
   "cell_type": "code",
   "execution_count": 14,
   "id": "249df500",
   "metadata": {},
   "outputs": [
    {
     "ename": "AttributeError",
     "evalue": "'Cell' object has no attribute 'areas'",
     "output_type": "error",
     "traceback": [
      "\u001b[1;31m---------------------------------------------------------------------------\u001b[0m",
      "\u001b[1;31mAttributeError\u001b[0m                            Traceback (most recent call last)",
      "Input \u001b[1;32mIn [14]\u001b[0m, in \u001b[0;36m<cell line: 4>\u001b[1;34m()\u001b[0m\n\u001b[0;32m      2\u001b[0m \u001b[38;5;28;01mfrom\u001b[39;00m \u001b[38;5;21;01mase\u001b[39;00m\u001b[38;5;21;01m.\u001b[39;00m\u001b[38;5;21;01mbuild\u001b[39;00m \u001b[38;5;28;01mimport\u001b[39;00m bulk\n\u001b[0;32m      3\u001b[0m cell\u001b[38;5;241m=\u001b[39mbulk(\u001b[38;5;124m'\u001b[39m\u001b[38;5;124mAu\u001b[39m\u001b[38;5;124m'\u001b[39m)\u001b[38;5;241m.\u001b[39mcell\n\u001b[1;32m----> 4\u001b[0m \u001b[43mcell\u001b[49m\u001b[38;5;241;43m.\u001b[39;49m\u001b[43mareas\u001b[49m()\n",
      "\u001b[1;31mAttributeError\u001b[0m: 'Cell' object has no attribute 'areas'"
     ]
    }
   ],
   "source": [
    "import ase\n",
    "from ase.build import bulk\n",
    "cell=bulk('Au').cell\n",
    "cell.areas()"
   ]
  },
  {
   "cell_type": "code",
   "execution_count": 23,
   "id": "382a8076",
   "metadata": {},
   "outputs": [
    {
     "data": {
      "text/plain": [
       "array([[ 3.21      ,  0.        ,  0.        ],\n",
       "       [-1.605     ,  2.77994155,  0.        ],\n",
       "       [ 0.        ,  0.        ,  5.21304   ]])"
      ]
     },
     "execution_count": 23,
     "metadata": {},
     "output_type": "execute_result"
    }
   ],
   "source": [
    "from ase.build import bulk\n",
    "cell=bulk('Mg').cell\n",
    "cell[:]"
   ]
  },
  {
   "cell_type": "code",
   "execution_count": null,
   "id": "12824dea",
   "metadata": {},
   "outputs": [],
   "source": []
  }
 ],
 "metadata": {
  "kernelspec": {
   "display_name": "Python 3 (ipykernel)",
   "language": "python",
   "name": "python3"
  },
  "language_info": {
   "codemirror_mode": {
    "name": "ipython",
    "version": 3
   },
   "file_extension": ".py",
   "mimetype": "text/x-python",
   "name": "python",
   "nbconvert_exporter": "python",
   "pygments_lexer": "ipython3",
   "version": "3.9.10"
  }
 },
 "nbformat": 4,
 "nbformat_minor": 5
}
