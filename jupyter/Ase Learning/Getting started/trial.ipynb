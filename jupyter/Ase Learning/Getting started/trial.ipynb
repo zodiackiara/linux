{
 "cells": [
  {
   "cell_type": "code",
   "execution_count": 9,
   "id": "d30609fe",
   "metadata": {},
   "outputs": [
    {
     "data": {
      "text/plain": [
       "<Popen: returncode: None args: ['C:\\\\Softwares\\\\Miniconda\\\\python.exe', '-m'...>"
      ]
     },
     "execution_count": 9,
     "metadata": {},
     "output_type": "execute_result"
    }
   ],
   "source": [
    "from math import sqrt\n",
    "from ase import Atoms\n",
    "import numpy as np\n",
    "a = 3.55\n",
    "atoms = Atoms('Ni4',\n",
    "              cell=[sqrt(2) * a, sqrt(2) * a, 1.0, 90, 90, 120],\n",
    "              pbc=(1, 1, 0),\n",
    "              scaled_positions=[(0, 0, 0),\n",
    "                                (0.5, 0, 0),\n",
    "                                (0, 0.5, 0),\n",
    "                                (0.5, 0.5, 0)])\n",
    "atoms.center(vacuum=5.0, axis=2)\n",
    "from ase.visualize import view\n",
    "atoms.write('slab.xyz')\n",
    "view(atoms)\n",
    "h = 1.9\n",
    "relative = (1 / 6, 1 / 6, 0.5)\n",
    "absolute = np.dot(relative, atoms.cell) + (0, 0, h)\n",
    "atoms.append('Ag')\n",
    "atoms.positions[-1] = absolute\n",
    "view(atoms)"
   ]
  },
  {
   "cell_type": "code",
   "execution_count": 10,
   "id": "f9b31872",
   "metadata": {},
   "outputs": [],
   "source": [
    "import numpy as np\n",
    "from ase import Atoms\n",
    "p = np.array(\n",
    "    [[0.27802511, -0.07732213, 13.46649107],\n",
    "     [0.91833251, -1.02565868, 13.41456626],\n",
    "     [0.91865997, 0.87076761, 13.41228287],\n",
    "     [1.85572027, 2.37336781, 13.56440907],\n",
    "     [3.13987926, 2.3633134, 13.4327577],\n",
    "     [1.77566079, 2.37150862, 14.66528237],\n",
    "     [4.52240322, 2.35264513, 13.37435864],\n",
    "     [5.16892729, 1.40357034, 13.42661052],\n",
    "     [5.15567324, 3.30068395, 13.4305779],\n",
    "     [6.10183518, -0.0738656, 13.27945071],\n",
    "     [7.3856151, -0.07438536, 13.40814585],\n",
    "     [6.01881192, -0.08627583, 12.1789428]])\n",
    "c = np.array([[8.490373, 0., 0.],\n",
    "              [0., 4.901919, 0.],\n",
    "              [0., 0., 26.93236]])\n",
    "W = Atoms('4(OH2)', positions=p, cell=c, pbc=[1, 1, 0])\n",
    "W.write('WL.traj')"
   ]
  },
  {
   "cell_type": "code",
   "execution_count": 15,
   "id": "1dccd657",
   "metadata": {
    "scrolled": true
   },
   "outputs": [],
   "source": [
    "from ase.io import read\n",
    "W = read('WL.traj')\n",
    "from ase.build import fcc111\n",
    "slab = fcc111('Ni', size=[2, 4, 3], a=3.55, orthogonal=True)\n",
    "W.set_cell(slab.cell, scale_atoms=True)\n",
    "zmin = W.positions[:, 2].min()\n",
    "zmax = slab.positions[:, 2].max()\n",
    "W.positions += (0, 0, zmax - zmin + 1.5)\n",
    "interface = slab + W\n",
    "interface.center(vacuum=6, axis=2)\n",
    "view(interface)\n",
    "interface.write('NiH2O.traj')"
   ]
  },
  {
   "cell_type": "code",
   "execution_count": null,
   "id": "e818129f",
   "metadata": {},
   "outputs": [],
   "source": []
  }
 ],
 "metadata": {
  "kernelspec": {
   "display_name": "Python 3 (ipykernel)",
   "language": "python",
   "name": "python3"
  },
  "language_info": {
   "codemirror_mode": {
    "name": "ipython",
    "version": 3
   },
   "file_extension": ".py",
   "mimetype": "text/x-python",
   "name": "python",
   "nbconvert_exporter": "python",
   "pygments_lexer": "ipython3",
   "version": "3.9.10"
  }
 },
 "nbformat": 4,
 "nbformat_minor": 5
}
