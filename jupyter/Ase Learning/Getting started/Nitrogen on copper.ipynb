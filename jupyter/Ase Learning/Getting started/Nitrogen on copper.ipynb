{
 "cells": [
  {
   "cell_type": "code",
   "execution_count": 1,
   "id": "393b28c5",
   "metadata": {
    "scrolled": true
   },
   "outputs": [
    {
     "name": "stdout",
     "output_type": "stream",
     "text": [
      "                Step[ FC]     Time          Energy          fmax\n",
      "*Force-consistent energies used in optimization.\n",
      "BFGSLineSearch:    0[  0] 20:40:13       11.689927*       1.0797\n",
      "BFGSLineSearch:    1[  2] 20:40:13       11.670814*       0.4090\n",
      "BFGSLineSearch:    2[  4] 20:40:13       11.625880*       0.0409\n",
      "Adsorption energy= 0.3235194223180713\n"
     ]
    }
   ],
   "source": [
    "from ase import Atoms\n",
    "from ase.calculators.emt import EMT\n",
    "from ase.constraints import FixAtoms\n",
    "from ase.optimize import QuasiNewton\n",
    "from ase.build import fcc111,add_adsorbate\n",
    "\n",
    "h=1.85\n",
    "d=1.10\n",
    "\n",
    "slab=fcc111('Cu',size=(4,4,2),vacuum=10.0)\n",
    "\n",
    "slab.calc=EMT()\n",
    "e_slab=slab.get_potential_energy()\n",
    "\n",
    "molecule=Atoms('2N',positions=[(0.,0.,0.),(0.,0.,d)])\n",
    "molecule.calc=EMT()\n",
    "e_N2=molecule.get_potential_energy()\n",
    "\n",
    "add_adsorbate(slab,molecule,h,'ontop')\n",
    "constraint=FixAtoms(mask=[a.symbol !='N' for a in slab])\n",
    "slab.set_constraint(constraint)\n",
    "dyn=QuasiNewton(slab,trajectory='N2Cu.traj')\n",
    "dyn.run(fmax=0.05)\n",
    "\n",
    "from ase.visualize import view\n",
    "view(slab)\n",
    "\n",
    "print('Adsorption energy=',e_slab + e_N2 - slab.get_potential_energy())"
   ]
  },
  {
   "cell_type": "code",
   "execution_count": null,
   "id": "9a6822ac",
   "metadata": {},
   "outputs": [],
   "source": []
  }
 ],
 "metadata": {
  "kernelspec": {
   "display_name": "Python 3 (ipykernel)",
   "language": "python",
   "name": "python3"
  },
  "language_info": {
   "codemirror_mode": {
    "name": "ipython",
    "version": 3
   },
   "file_extension": ".py",
   "mimetype": "text/x-python",
   "name": "python",
   "nbconvert_exporter": "python",
   "pygments_lexer": "ipython3",
   "version": "3.9.10"
  }
 },
 "nbformat": 4,
 "nbformat_minor": 5
}
