{
 "cells": [
  {
   "cell_type": "code",
   "execution_count": 2,
   "id": "bfc4e3cf",
   "metadata": {},
   "outputs": [
    {
     "data": {
      "text/plain": [
       "'1.4.2'"
      ]
     },
     "execution_count": 2,
     "metadata": {},
     "output_type": "execute_result"
    }
   ],
   "source": [
    "import pandas\n",
    "pandas.__version__"
   ]
  },
  {
   "cell_type": "code",
   "execution_count": 3,
   "id": "8a4c2ab1",
   "metadata": {},
   "outputs": [
    {
     "name": "stdout",
     "output_type": "stream",
     "text": [
      "    sites  number\n",
      "0  Google       1\n",
      "1  Runoob       2\n",
      "2    Wiki       3\n"
     ]
    }
   ],
   "source": [
    "import numpy as np\n",
    "import pandas as pd\n",
    "\n",
    "mydataset = {'sites': [\"Google\", \"Runoob\", \"Wiki\"], 'number': [1, 2, 3]}\n",
    "myvar = pd.DataFrame(mydataset)\n",
    "\n",
    "print(myvar)"
   ]
  },
  {
   "cell_type": "code",
   "execution_count": 6,
   "id": "d4e901b6",
   "metadata": {},
   "outputs": [
    {
     "data": {
      "text/plain": [
       "array([[4., 4., 4., 4., 4.],\n",
       "       [4., 4., 4., 4., 4.],\n",
       "       [4., 4., 4., 4., 4.]])"
      ]
     },
     "execution_count": 6,
     "metadata": {},
     "output_type": "execute_result"
    }
   ],
   "source": [
    "import numpy as np\n",
    "a=np.ones((3,4,5))\n",
    "a.sum(axis=1)"
   ]
  },
  {
   "cell_type": "code",
   "execution_count": 7,
   "id": "c104fb40",
   "metadata": {},
   "outputs": [
    {
     "name": "stdout",
     "output_type": "stream",
     "text": [
      "0    1\n",
      "1    2\n",
      "2    3\n",
      "dtype: int64\n"
     ]
    }
   ],
   "source": [
    "import pandas as pd\n",
    "\n",
    "a = [1, 2, 3]\n",
    "myvar = pd.Series(a)\n",
    "print(myvar)"
   ]
  },
  {
   "cell_type": "code",
   "execution_count": 8,
   "id": "202bb9f7",
   "metadata": {},
   "outputs": [
    {
     "name": "stdout",
     "output_type": "stream",
     "text": [
      "2\n"
     ]
    }
   ],
   "source": [
    "import pandas as pd\n",
    "\n",
    "a = [1, 2, 3]\n",
    "myvar = pd.Series(a)\n",
    "print(myvar[1])"
   ]
  },
  {
   "cell_type": "code",
   "execution_count": 15,
   "id": "cae64ca9",
   "metadata": {},
   "outputs": [
    {
     "name": "stdout",
     "output_type": "stream",
     "text": [
      "x    Google\n",
      "y    Runoob\n",
      "z      Wiki\n",
      "dtype: object\n"
     ]
    }
   ],
   "source": [
    "import pandas as pd\n",
    "\n",
    "a = [\"Google\", \"Runoob\", \"Wiki\"]\n",
    "myvar=pd.Series(a,index=[\"x\",\"y\",\"z\"])\n",
    "\n",
    "print(myvar)"
   ]
  },
  {
   "cell_type": "code",
   "execution_count": 17,
   "id": "d9941334",
   "metadata": {},
   "outputs": [
    {
     "name": "stdout",
     "output_type": "stream",
     "text": [
      "1    Google\n",
      "2    Runoob\n",
      "3      Wiki\n",
      "dtype: object\n"
     ]
    }
   ],
   "source": [
    "import pandas as pd\n",
    "\n",
    "sites={1:\"Google\",2:\"Runoob\",3:\"Wiki\"}\n",
    "myvar=pd.Series(sites)\n",
    "\n",
    "print(myvar)"
   ]
  },
  {
   "cell_type": "code",
   "execution_count": 18,
   "id": "767a638e",
   "metadata": {},
   "outputs": [
    {
     "name": "stdout",
     "output_type": "stream",
     "text": [
      "1    Google\n",
      "2    Runoob\n",
      "dtype: object\n"
     ]
    }
   ],
   "source": [
    "import pandas as pd\n",
    "\n",
    "sites = {1: \"Google\", 2: \"Runoob\", 3: \"Wiki\"}\n",
    "myvar = pd.Series(sites, index = [1, 2])\n",
    "\n",
    "print(myvar)"
   ]
  },
  {
   "cell_type": "code",
   "execution_count": 21,
   "id": "dc24517e",
   "metadata": {},
   "outputs": [
    {
     "name": "stdout",
     "output_type": "stream",
     "text": [
      "Runoob\n"
     ]
    }
   ],
   "source": [
    "import pandas as pd\n",
    "\n",
    "sites = {1: \"Google\", 2: \"Runoob\", 3: \"Wiki\"}\n",
    "myvar = pd.Series(sites, index = [1, 2], name=\"RUNOOB-Series-TEST\" )\n",
    "\n",
    "print(myvar[2])"
   ]
  },
  {
   "cell_type": "code",
   "execution_count": 26,
   "id": "4ca1a0ed",
   "metadata": {},
   "outputs": [
    {
     "name": "stdout",
     "output_type": "stream",
     "text": [
      "     Site  Age\n",
      "0  Google   10\n",
      "1  Runoob   12\n",
      "2    Wiki   13\n"
     ]
    }
   ],
   "source": [
    "import pandas as pd\n",
    "\n",
    "data = [['Google',10],['Runoob',12],['Wiki',13]]\n",
    "df = pd.DataFrame(data,columns=['Site','Age'])\n",
    "\n",
    "print(df)"
   ]
  },
  {
   "cell_type": "code",
   "execution_count": 27,
   "id": "e1a92bb6",
   "metadata": {},
   "outputs": [
    {
     "name": "stdout",
     "output_type": "stream",
     "text": [
      "   a   b     c\n",
      "0  1   2   NaN\n",
      "1  5  10  20.0\n"
     ]
    }
   ],
   "source": [
    "import pandas as pd\n",
    "\n",
    "data = [{'a': 1, 'b': 2},{'a': 5, 'b': 10, 'c': 20}]\n",
    "df = pd.DataFrame(data)\n",
    "\n",
    "print (df)"
   ]
  },
  {
   "cell_type": "code",
   "execution_count": 29,
   "id": "8136874e",
   "metadata": {},
   "outputs": [
    {
     "name": "stdout",
     "output_type": "stream",
     "text": [
      "calories    420\n",
      "duration     50\n",
      "Name: 0, dtype: int64\n",
      "calories    380\n",
      "duration     40\n",
      "Name: 1, dtype: int64\n"
     ]
    }
   ],
   "source": [
    "import pandas as pd\n",
    "\n",
    "data = { \"calories\": [420, 380, 390], \"duration\": [50, 40, 45]}\n",
    "df = pd.DataFrame(data)\n",
    "\n",
    "print(df.loc[0])\n",
    "print(df.loc[1])"
   ]
  },
  {
   "cell_type": "code",
   "execution_count": 31,
   "id": "01fbcf29",
   "metadata": {},
   "outputs": [
    {
     "name": "stdout",
     "output_type": "stream",
     "text": [
      "   calories  duration\n",
      "0       420        50\n",
      "1       380        40\n"
     ]
    }
   ],
   "source": [
    "import pandas as pd\n",
    "\n",
    "data = { \"calories\": [420, 380, 390], \"duration\": [50, 40, 45]}\n",
    "df = pd.DataFrame(data)\n",
    "\n",
    "print(df.loc[[0,1]])"
   ]
  },
  {
   "cell_type": "code",
   "execution_count": 32,
   "id": "71cef51f",
   "metadata": {},
   "outputs": [
    {
     "name": "stdout",
     "output_type": "stream",
     "text": [
      "      calories  duration\n",
      "day1       420        50\n",
      "day2       380        40\n",
      "day3       390        45\n"
     ]
    }
   ],
   "source": [
    "import pandas as pd\n",
    "\n",
    "data = {\"calories\": [420, 380, 390], \"duration\": [50, 40, 45]}\n",
    "\n",
    "df = pd.DataFrame(data, index = [\"day1\", \"day2\", \"day3\"])\n",
    "\n",
    "print(df)"
   ]
  },
  {
   "cell_type": "code",
   "execution_count": 33,
   "id": "b50b26b6",
   "metadata": {},
   "outputs": [
    {
     "name": "stdout",
     "output_type": "stream",
     "text": [
      "      calories  duration\n",
      "day1       420        50\n",
      "day2       380        40\n"
     ]
    }
   ],
   "source": [
    "import pandas as pd\n",
    "\n",
    "data = {\"calories\": [420, 380, 390], \"duration\": [50, 40, 45]}\n",
    "\n",
    "df = pd.DataFrame(data, index = [\"day1\", \"day2\", \"day3\"])\n",
    "\n",
    "print(df.loc[['day1','day2']])"
   ]
  },
  {
   "cell_type": "code",
   "execution_count": 35,
   "id": "9bd7858c",
   "metadata": {},
   "outputs": [
    {
     "name": "stdout",
     "output_type": "stream",
     "text": [
      "              Name            Team  Number Position   Age Height  Weight  \\\n",
      "0    Avery Bradley  Boston Celtics     0.0       PG  25.0    6-2   180.0   \n",
      "1      Jae Crowder  Boston Celtics    99.0       SF  25.0    6-6   235.0   \n",
      "2     John Holland  Boston Celtics    30.0       SG  27.0    6-5   205.0   \n",
      "3      R.J. Hunter  Boston Celtics    28.0       SG  22.0    6-5   185.0   \n",
      "4    Jonas Jerebko  Boston Celtics     8.0       PF  29.0   6-10   231.0   \n",
      "..             ...             ...     ...      ...   ...    ...     ...   \n",
      "453   Shelvin Mack       Utah Jazz     8.0       PG  26.0    6-3   203.0   \n",
      "454      Raul Neto       Utah Jazz    25.0       PG  24.0    6-1   179.0   \n",
      "455   Tibor Pleiss       Utah Jazz    21.0        C  26.0    7-3   256.0   \n",
      "456    Jeff Withey       Utah Jazz    24.0        C  26.0    7-0   231.0   \n",
      "457            NaN             NaN     NaN      NaN   NaN    NaN     NaN   \n",
      "\n",
      "               College     Salary  \n",
      "0                Texas  7730337.0  \n",
      "1            Marquette  6796117.0  \n",
      "2    Boston University        NaN  \n",
      "3        Georgia State  1148640.0  \n",
      "4                  NaN  5000000.0  \n",
      "..                 ...        ...  \n",
      "453             Butler  2433333.0  \n",
      "454                NaN   900000.0  \n",
      "455                NaN  2900000.0  \n",
      "456             Kansas   947276.0  \n",
      "457                NaN        NaN  \n",
      "\n",
      "[458 rows x 9 columns]\n"
     ]
    }
   ],
   "source": [
    "import pandas as pd\n",
    "\n",
    "df=pd.read_csv('nba.csv')\n",
    "\n",
    "print(df)\n",
    "    "
   ]
  },
  {
   "cell_type": "code",
   "execution_count": 36,
   "id": "7293725d",
   "metadata": {},
   "outputs": [],
   "source": [
    "import pandas as pd\n",
    "   \n",
    "nme = [\"Google\", \"Runoob\", \"Taobao\", \"Wiki\"]\n",
    "st = [\"www.google.com\", \"www.runoob.com\", \"www.taobao.com\", \"www.wikipedia.org\"]\n",
    "ag = [90, 40, 80, 98]\n",
    "\n",
    "dict = {'name': nme, 'site': st, 'age': ag}\n",
    "     \n",
    "df = pd.DataFrame(dict)\n",
    " \n",
    "df.to_csv('site.csv')"
   ]
  },
  {
   "cell_type": "code",
   "execution_count": 37,
   "id": "18c489e1",
   "metadata": {},
   "outputs": [
    {
     "name": "stdout",
     "output_type": "stream",
     "text": [
      "   Unnamed: 0    name               site  age\n",
      "0           0  Google     www.google.com   90\n",
      "1           1  Runoob     www.runoob.com   40\n",
      "2           2  Taobao     www.taobao.com   80\n",
      "3           3    Wiki  www.wikipedia.org   98\n"
     ]
    }
   ],
   "source": [
    "import pandas as pd\n",
    "\n",
    "df=pd.read_csv('site.csv')\n",
    "\n",
    "print(df)"
   ]
  },
  {
   "cell_type": "code",
   "execution_count": 38,
   "id": "96760aff",
   "metadata": {},
   "outputs": [
    {
     "name": "stdout",
     "output_type": "stream",
     "text": [
      "            Name            Team  Number Position   Age Height  Weight  \\\n",
      "0  Avery Bradley  Boston Celtics     0.0       PG  25.0    6-2   180.0   \n",
      "1    Jae Crowder  Boston Celtics    99.0       SF  25.0    6-6   235.0   \n",
      "2   John Holland  Boston Celtics    30.0       SG  27.0    6-5   205.0   \n",
      "3    R.J. Hunter  Boston Celtics    28.0       SG  22.0    6-5   185.0   \n",
      "4  Jonas Jerebko  Boston Celtics     8.0       PF  29.0   6-10   231.0   \n",
      "5   Amir Johnson  Boston Celtics    90.0       PF  29.0    6-9   240.0   \n",
      "6  Jordan Mickey  Boston Celtics    55.0       PF  21.0    6-8   235.0   \n",
      "7   Kelly Olynyk  Boston Celtics    41.0        C  25.0    7-0   238.0   \n",
      "8   Terry Rozier  Boston Celtics    12.0       PG  22.0    6-2   190.0   \n",
      "9   Marcus Smart  Boston Celtics    36.0       PG  22.0    6-4   220.0   \n",
      "\n",
      "             College      Salary  \n",
      "0              Texas   7730337.0  \n",
      "1          Marquette   6796117.0  \n",
      "2  Boston University         NaN  \n",
      "3      Georgia State   1148640.0  \n",
      "4                NaN   5000000.0  \n",
      "5                NaN  12000000.0  \n",
      "6                LSU   1170960.0  \n",
      "7            Gonzaga   2165160.0  \n",
      "8         Louisville   1824360.0  \n",
      "9     Oklahoma State   3431040.0  \n"
     ]
    }
   ],
   "source": [
    "import pandas as pd\n",
    "\n",
    "df = pd.read_csv('nba.csv')\n",
    "\n",
    "print(df.head(10))"
   ]
  },
  {
   "cell_type": "code",
   "execution_count": 40,
   "id": "28fb0421",
   "metadata": {},
   "outputs": [
    {
     "ename": "SyntaxError",
     "evalue": "invalid syntax (393287537.py, line 5)",
     "output_type": "error",
     "traceback": [
      "\u001b[1;36m  Input \u001b[1;32mIn [40]\u001b[1;36m\u001b[0m\n\u001b[1;33m    print(df.head(1:5))\u001b[0m\n\u001b[1;37m                   ^\u001b[0m\n\u001b[1;31mSyntaxError\u001b[0m\u001b[1;31m:\u001b[0m invalid syntax\n"
     ]
    }
   ],
   "source": [
    "import pandas as pd\n",
    "\n",
    "df = pd.read_csv('nba.csv')\n",
    "\n",
    "print(df.head(5))"
   ]
  },
  {
   "cell_type": "code",
   "execution_count": 41,
   "id": "f143bf5d",
   "metadata": {},
   "outputs": [
    {
     "name": "stdout",
     "output_type": "stream",
     "text": [
      "               Name       Team  Number Position   Age Height  Weight  \\\n",
      "448  Gordon Hayward  Utah Jazz    20.0       SF  26.0    6-8   226.0   \n",
      "449     Rodney Hood  Utah Jazz     5.0       SG  23.0    6-8   206.0   \n",
      "450      Joe Ingles  Utah Jazz     2.0       SF  28.0    6-8   226.0   \n",
      "451   Chris Johnson  Utah Jazz    23.0       SF  26.0    6-6   206.0   \n",
      "452      Trey Lyles  Utah Jazz    41.0       PF  20.0   6-10   234.0   \n",
      "453    Shelvin Mack  Utah Jazz     8.0       PG  26.0    6-3   203.0   \n",
      "454       Raul Neto  Utah Jazz    25.0       PG  24.0    6-1   179.0   \n",
      "455    Tibor Pleiss  Utah Jazz    21.0        C  26.0    7-3   256.0   \n",
      "456     Jeff Withey  Utah Jazz    24.0        C  26.0    7-0   231.0   \n",
      "457             NaN        NaN     NaN      NaN   NaN    NaN     NaN   \n",
      "\n",
      "      College      Salary  \n",
      "448    Butler  15409570.0  \n",
      "449      Duke   1348440.0  \n",
      "450       NaN   2050000.0  \n",
      "451    Dayton    981348.0  \n",
      "452  Kentucky   2239800.0  \n",
      "453    Butler   2433333.0  \n",
      "454       NaN    900000.0  \n",
      "455       NaN   2900000.0  \n",
      "456    Kansas    947276.0  \n",
      "457       NaN         NaN  \n"
     ]
    }
   ],
   "source": [
    "import pandas as pd\n",
    "\n",
    "df = pd.read_csv('nba.csv')\n",
    "\n",
    "print(df.tail(10))"
   ]
  },
  {
   "cell_type": "code",
   "execution_count": 42,
   "id": "bf6a0f97",
   "metadata": {},
   "outputs": [
    {
     "name": "stdout",
     "output_type": "stream",
     "text": [
      "<class 'pandas.core.frame.DataFrame'>\n",
      "RangeIndex: 458 entries, 0 to 457\n",
      "Data columns (total 9 columns):\n",
      " #   Column    Non-Null Count  Dtype  \n",
      "---  ------    --------------  -----  \n",
      " 0   Name      457 non-null    object \n",
      " 1   Team      457 non-null    object \n",
      " 2   Number    457 non-null    float64\n",
      " 3   Position  457 non-null    object \n",
      " 4   Age       457 non-null    float64\n",
      " 5   Height    457 non-null    object \n",
      " 6   Weight    457 non-null    float64\n",
      " 7   College   373 non-null    object \n",
      " 8   Salary    446 non-null    float64\n",
      "dtypes: float64(4), object(5)\n",
      "memory usage: 32.3+ KB\n",
      "None\n"
     ]
    }
   ],
   "source": [
    "import pandas as pd\n",
    "\n",
    "df = pd.read_csv('nba.csv')\n",
    "\n",
    "print(df.info())"
   ]
  },
  {
   "cell_type": "code",
   "execution_count": 43,
   "id": "7d2152b3",
   "metadata": {},
   "outputs": [
    {
     "name": "stdout",
     "output_type": "stream",
     "text": [
      "     id    name             url  likes\n",
      "0  A001    菜鸟教程  www.runoob.com     61\n",
      "1  A002  Google  www.google.com    124\n",
      "2  A003      淘宝  www.taobao.com     45\n"
     ]
    }
   ],
   "source": [
    "import pandas as pd\n",
    "\n",
    "df = pd.read_json('sites.json')\n",
    "   \n",
    "print(df.to_string())"
   ]
  },
  {
   "cell_type": "code",
   "execution_count": 44,
   "id": "34e40e75",
   "metadata": {},
   "outputs": [
    {
     "name": "stdout",
     "output_type": "stream",
     "text": [
      "      col1 col2\n",
      "row1     1    x\n",
      "row2     2    y\n",
      "row3     3    z\n"
     ]
    }
   ],
   "source": [
    "import pandas as pd\n",
    "                                                                                            \n",
    "s = {\"col1\":{\"row1\":1,\"row2\":2,\"row3\":3}, \"col2\":{\"row1\":\"x\",\"row2\":\"y\",\"row3\":\"z\"}}                                                                                       \n",
    "df = pd.DataFrame(s)\n",
    "\n",
    "print(df)"
   ]
  },
  {
   "cell_type": "code",
   "execution_count": 45,
   "id": "89ad8612",
   "metadata": {},
   "outputs": [
    {
     "name": "stdout",
     "output_type": "stream",
     "text": [
      "     id    name             url  likes\n",
      "0  A001    菜鸟教程  www.runoob.com     61\n",
      "1  A002  Google  www.google.com    124\n",
      "2  A003      淘宝  www.taobao.com     45\n"
     ]
    }
   ],
   "source": [
    "import pandas as pd\n",
    "\n",
    "URL = 'https://static.runoob.com/download/sites.json'\n",
    "df = pd.read_json(URL)\n",
    "\n",
    "print(df)"
   ]
  },
  {
   "cell_type": "code",
   "execution_count": 46,
   "id": "716021b2",
   "metadata": {},
   "outputs": [
    {
     "name": "stdout",
     "output_type": "stream",
     "text": [
      "          school_name   class  \\\n",
      "0  ABC primary school  Year 1   \n",
      "1  ABC primary school  Year 1   \n",
      "2  ABC primary school  Year 1   \n",
      "\n",
      "                                            students  \n",
      "0  {'id': 'A001', 'name': 'Tom', 'math': 60, 'phy...  \n",
      "1  {'id': 'A002', 'name': 'James', 'math': 89, 'p...  \n",
      "2  {'id': 'A003', 'name': 'Jenny', 'math': 79, 'p...  \n"
     ]
    }
   ],
   "source": [
    "import pandas as pd\n",
    "\n",
    "df=pd.read_json('nested_list.json')\n",
    "\n",
    "print(df)"
   ]
  },
  {
   "cell_type": "code",
   "execution_count": 47,
   "id": "e6781d94",
   "metadata": {},
   "outputs": [
    {
     "name": "stdout",
     "output_type": "stream",
     "text": [
      "     id   name  math  physics  chemistry\n",
      "0  A001    Tom    60       66         61\n",
      "1  A002  James    89       76         51\n",
      "2  A003  Jenny    79       90         78\n"
     ]
    }
   ],
   "source": [
    "import pandas as pd\n",
    "import json\n",
    "\n",
    "with open('nested_list.json','r') as f:\n",
    "    data = json.loads(f.read())\n",
    "df_nested_list = pd.json_normalize(data, record_path =['students'])\n",
    "\n",
    "print(df_nested_list)"
   ]
  },
  {
   "cell_type": "code",
   "execution_count": 48,
   "id": "15861f9b",
   "metadata": {},
   "outputs": [
    {
     "name": "stdout",
     "output_type": "stream",
     "text": [
      "     id   name  math  physics  chemistry         school_name   class\n",
      "0  A001    Tom    60       66         61  ABC primary school  Year 1\n",
      "1  A002  James    89       76         51  ABC primary school  Year 1\n",
      "2  A003  Jenny    79       90         78  ABC primary school  Year 1\n"
     ]
    }
   ],
   "source": [
    "import pandas as pd\n",
    "import json\n",
    "\n",
    "with open('nested_list.json','r') as f:\n",
    "    data = json.loads(f.read())\n",
    "    \n",
    "df_nested_list = pd.json_normalize(data,record_path =['students'],meta=['school_name', 'class'])\n",
    "\n",
    "print(df_nested_list)"
   ]
  },
  {
   "cell_type": "code",
   "execution_count": 49,
   "id": "5b457b4a",
   "metadata": {},
   "outputs": [
    {
     "name": "stdout",
     "output_type": "stream",
     "text": [
      "     id   name  math  physics  chemistry   class info.president  \\\n",
      "0  A001    Tom    60       66         61  Year 1    John Kasich   \n",
      "1  A002  James    89       76         51  Year 1    John Kasich   \n",
      "2  A003  Jenny    79       90         78  Year 1    John Kasich   \n",
      "\n",
      "  info.contacts.tel  \n",
      "0         123456789  \n",
      "1         123456789  \n",
      "2         123456789  \n"
     ]
    }
   ],
   "source": [
    "import pandas as pd\n",
    "import json\n",
    "\n",
    "with open('nested_mix.json','r') as f:\n",
    "    data = json.loads(f.read())\n",
    "   \n",
    "df = pd.json_normalize(data,record_path =['students'],meta=['class',['info', 'president'],\n",
    "     ['info', 'contacts', 'tel']])\n",
    "\n",
    "print(df)"
   ]
  },
  {
   "cell_type": "code",
   "execution_count": 50,
   "id": "aadbdba7",
   "metadata": {},
   "outputs": [
    {
     "name": "stdout",
     "output_type": "stream",
     "text": [
      "0    60\n",
      "1    89\n",
      "2    79\n",
      "Name: students, dtype: int64\n"
     ]
    }
   ],
   "source": [
    "import pandas as pd\n",
    "from glom import glom\n",
    "\n",
    "df = pd.read_json('nested_deep.json')\n",
    "\n",
    "data = df['students'].apply(lambda row: glom(row, 'grade.math'))\n",
    "\n",
    "print(data)"
   ]
  },
  {
   "cell_type": "code",
   "execution_count": 162,
   "id": "08f82873",
   "metadata": {},
   "outputs": [
    {
     "name": "stdout",
     "output_type": "stream",
     "text": [
      "         s      p      d    tot\n",
      "1    0.013  0.023  1.206  1.242\n",
      "2    0.015  0.024  1.280  1.319\n",
      "3    0.014  0.024  1.362  1.400\n",
      "4    0.019  0.023  1.588  1.629\n",
      "5    0.013  0.021  1.173  1.207\n",
      "..     ...    ...    ...    ...\n",
      "116 -0.018 -0.029 -0.800 -0.847\n",
      "117 -0.021 -0.024 -1.215 -1.260\n",
      "118 -0.019 -0.032 -1.174 -1.225\n",
      "119 -0.024 -0.038 -1.316 -1.378\n",
      "120 -0.024 -0.039 -1.185 -1.248\n",
      "\n",
      "[120 rows x 4 columns]\n"
     ]
    }
   ],
   "source": [
    "import pandas as pd\n",
    "\n",
    "pf=pd.read_csv('OUTCAR1.txt',skiprows=range(0,859178),nrows=120,sep='\\s+',names=['s','p','d','tot'],header=None)\n",
    "\n",
    "print(pf)"
   ]
  },
  {
   "cell_type": "code",
   "execution_count": 5,
   "id": "a0e1649a",
   "metadata": {},
   "outputs": [
    {
     "name": "stdout",
     "output_type": "stream",
     "text": [
      "   Unnamed: 0    name               site  age\n",
      "0           0  Google     www.google.com   90\n",
      "1           1  Runoob     www.runoob.com   40\n",
      "2           2  Taobao     www.taobao.com   80\n",
      "3           3    Wiki  www.wikipedia.org   98\n"
     ]
    }
   ],
   "source": [
    "import pandas as pd\n",
    "\n",
    "pf=pd.read_csv('site.csv',skiprows=range(-2))\n",
    "\n",
    "print(pf)"
   ]
  },
  {
   "cell_type": "code",
   "execution_count": null,
   "id": "f9056796",
   "metadata": {},
   "outputs": [],
   "source": []
  }
 ],
 "metadata": {
  "kernelspec": {
   "display_name": "Python 3 (ipykernel)",
   "language": "python",
   "name": "python3"
  },
  "language_info": {
   "codemirror_mode": {
    "name": "ipython",
    "version": 3
   },
   "file_extension": ".py",
   "mimetype": "text/x-python",
   "name": "python",
   "nbconvert_exporter": "python",
   "pygments_lexer": "ipython3",
   "version": "3.9.7"
  }
 },
 "nbformat": 4,
 "nbformat_minor": 5
}
