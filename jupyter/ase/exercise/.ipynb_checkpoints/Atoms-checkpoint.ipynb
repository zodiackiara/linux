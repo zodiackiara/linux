{
 "cells": [
  {
   "cell_type": "code",
   "execution_count": 1,
   "id": "f6d2e02e",
   "metadata": {},
   "outputs": [
    {
     "data": {
      "text/plain": [
       "array([[0., 0., 0.],\n",
       "       [1., 0., 0.],\n",
       "       [0., 0., 1.]])"
      ]
     },
     "execution_count": 1,
     "metadata": {},
     "output_type": "execute_result"
    }
   ],
   "source": [
    "from ase import Atoms\n",
    "atoms = Atoms('N3', [(0, 0, 0), (1, 0, 0), (0, 0, 1)])\n",
    "atoms.get_positions()"
   ]
  },
  {
   "cell_type": "code",
   "execution_count": 2,
   "id": "ca48628d",
   "metadata": {},
   "outputs": [
    {
     "data": {
      "text/plain": [
       "array([[2., 0., 0.],\n",
       "       [1., 1., 0.],\n",
       "       [2., 2., 0.]])"
      ]
     },
     "execution_count": 2,
     "metadata": {},
     "output_type": "execute_result"
    }
   ],
   "source": [
    "from ase import Atoms\n",
    "atoms = Atoms('N3', [(1, 0, 0), (1, 0, 0), (1, 1, 0)])\n",
    "atoms.set_pbc((True, True, False))\n",
    "atoms.positions *= 2\n",
    "atoms.positions[1] = (1, 1, 0)\n",
    "atoms.get_positions()"
   ]
  },
  {
   "cell_type": "code",
   "execution_count": 3,
   "id": "49cd1750",
   "metadata": {},
   "outputs": [
    {
     "data": {
      "text/plain": [
       "array([7, 7, 7])"
      ]
     },
     "execution_count": 3,
     "metadata": {},
     "output_type": "execute_result"
    }
   ],
   "source": [
    "from ase import Atoms\n",
    "atoms = Atoms('N3', [(1, 0, 0), (1, 0, 0), (1, 1, 0)])\n",
    "atoms.set_pbc((True, True, False))\n",
    "atoms.positions *= 2\n",
    "atoms.positions[1] = (1, 1, 0)\n",
    "atoms.numbers"
   ]
  },
  {
   "cell_type": "code",
   "execution_count": 4,
   "id": "12b47716",
   "metadata": {},
   "outputs": [
    {
     "data": {
      "text/plain": [
       "['Al', 'N', 'N']"
      ]
     },
     "execution_count": 4,
     "metadata": {},
     "output_type": "execute_result"
    }
   ],
   "source": [
    "from ase import Atoms\n",
    "atoms = Atoms('N3', [(1, 0, 0), (1, 0, 0), (1, 1, 0)])\n",
    "atoms.set_pbc((True, True, False))\n",
    "atoms.positions *= 2\n",
    "atoms.positions[1] = (1, 1, 0)\n",
    "atoms.numbers[0] = 13 #The atomic numbers can be edited using the numbers\n",
    "atoms.get_chemical_symbols()"
   ]
  },
  {
   "cell_type": "code",
   "execution_count": 5,
   "id": "8916c3a4",
   "metadata": {},
   "outputs": [
    {
     "data": {
      "text/plain": [
       "Symbols('AlNCu')"
      ]
     },
     "execution_count": 5,
     "metadata": {},
     "output_type": "execute_result"
    }
   ],
   "source": [
    "from ase import Atoms\n",
    "atoms = Atoms('N3', [(1, 0, 0), (1, 0, 0), (1, 1, 0)])\n",
    "atoms.set_pbc((True, True, False))\n",
    "atoms.positions *= 2\n",
    "atoms.positions[1] = (1, 1, 0)\n",
    "atoms.numbers[0] = 13 \n",
    "atoms.symbols[2] = 'Cu' #The atomic numbers can also be edited using the symbols shortcut\n",
    "atoms.symbols"
   ]
  },
  {
   "cell_type": "code",
   "execution_count": 4,
   "id": "953e2839",
   "metadata": {},
   "outputs": [
    {
     "data": {
      "text/plain": [
       "<Popen: returncode: None args: ['/usr/local/miniconda3/bin/python', '-m', 'a...>"
      ]
     },
     "execution_count": 4,
     "metadata": {},
     "output_type": "execute_result"
    }
   ],
   "source": [
    "from ase import Atoms\n",
    "atoms = Atoms('N3', [(1, 0, 0), (1, 0, 0), (1, 1, 0)])\n",
    "atoms.set_pbc((True, True, False))\n",
    "atoms.positions *= 2\n",
    "atoms.positions[1] = (1, 1, 0)\n",
    "atoms.numbers[0] = 13 \n",
    "atoms.symbols[2] = 'Cu' #The atomic numbers can also be edited using the symbols shortcut\n",
    "atoms.symbols\n",
    "from ase.visualize import view\n",
    "view(atoms)"
   ]
  },
  {
   "cell_type": "code",
   "execution_count": null,
   "id": "455316ff-7ae4-418e-9847-cc58a2327dbb",
   "metadata": {},
   "outputs": [],
   "source": []
  },
  {
   "cell_type": "code",
   "execution_count": 7,
   "id": "6adab092",
   "metadata": {},
   "outputs": [
    {
     "name": "stdout",
     "output_type": "stream",
     "text": [
      "3\n"
     ]
    }
   ],
   "source": [
    "from ase import Atoms\n",
    "atoms = Atoms('N3', [(1, 0, 0), (1, 0, 0), (1, 1, 0)])\n",
    "atoms.set_pbc((True, True, False))\n",
    "atoms.positions *= 2\n",
    "atoms.positions[1] = (1, 1, 0)\n",
    "atoms.numbers[0] = 13 \n",
    "atoms.symbols[2] = 'Cu' \n",
    "atomtypes = atoms.get_chemical_symbols()\n",
    "spinpol = atoms.get_initial_magnetic_moments().any()\n",
    "natoms = len(atoms)\n",
    "print (natoms)"
   ]
  },
  {
   "cell_type": "code",
   "execution_count": null,
   "id": "19dee7a2-48b1-4e11-bd13-b519baee21a1",
   "metadata": {},
   "outputs": [],
   "source": []
  }
 ],
 "metadata": {
  "kernelspec": {
   "display_name": "Python 3 (ipykernel)",
   "language": "python",
   "name": "python3"
  },
  "language_info": {
   "codemirror_mode": {
    "name": "ipython",
    "version": 3
   },
   "file_extension": ".py",
   "mimetype": "text/x-python",
   "name": "python",
   "nbconvert_exporter": "python",
   "pygments_lexer": "ipython3",
   "version": "3.9.7"
  }
 },
 "nbformat": 4,
 "nbformat_minor": 5
}
