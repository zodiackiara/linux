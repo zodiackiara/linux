{
 "cells": [
  {
   "cell_type": "code",
   "execution_count": 1,
   "id": "5d5fa732-beff-4929-bd04-e90d9e9e9c7a",
   "metadata": {},
   "outputs": [
    {
     "name": "stdout",
     "output_type": "stream",
     "text": [
      "      energy  epsilon1      epsilon2\n",
      "0       0.10  2.076249  6.629950e-11\n",
      "1       0.11  2.076371  5.234579e-10\n",
      "2       0.12  2.076504  3.003069e-11\n",
      "3       0.13  2.076650  6.608014e-11\n",
      "4       0.14  2.076807  5.847020e-12\n",
      "...      ...       ...           ...\n",
      "1226   12.36 -1.525433  0.000000e+00\n",
      "1227   12.37 -1.520364  0.000000e+00\n",
      "1228   12.38 -1.515328  0.000000e+00\n",
      "1229   12.39 -1.510323  0.000000e+00\n",
      "1230   12.40 -1.505349  0.000000e+00\n",
      "\n",
      "[1231 rows x 3 columns]\n",
      "      energy   epsilon1   epsilon2\n",
      "0       0.10  73.283459  20.193462\n",
      "1       0.11  64.607543  15.703153\n",
      "2       0.12  61.482352  11.163585\n",
      "3       0.13  60.515241   8.772602\n",
      "4       0.14  60.290700   6.949998\n",
      "...      ...        ...        ...\n",
      "1226   12.36 -38.877600   0.000000\n",
      "1227   12.37 -38.759560   0.000000\n",
      "1228   12.38 -38.642184   0.000000\n",
      "1229   12.39 -38.525468   0.000000\n",
      "1230   12.40 -38.409405   0.000000\n",
      "\n",
      "[1231 rows x 3 columns]\n"
     ]
    }
   ],
   "source": [
    "import pykk\n",
    "import pandas as pd\n",
    "\n",
    "dirabs = pd.read_csv('zro2_epsilon2_dirabs_300.0K.dat',sep='\\s+', header=None, names=None,skiprows=[0,1])\n",
    "\n",
    "dirabs_energy = dirabs[0].tolist()\n",
    "dirabs_imag = dirabs[4].tolist()\n",
    "\n",
    "dirabs_real = pykk.imag2real(dirabs_energy,dirabs_imag) \n",
    "dirabs_real = pd.Series(dirabs_real)\n",
    "dirabs_real = dirabs_real.T\n",
    "\n",
    "dirabs = pd.DataFrame({'energy':dirabs_energy,'epsilon1':dirabs_real,'epsilon2':dirabs_imag})\n",
    "print (dirabs)\n",
    "\n",
    "dirabs.to_csv('zro2_dirabs_300K.txt',sep=' ',index=0)\n",
    "\n",
    "indabs = pd.read_csv('zro2_epsilon2_indabs_300.0K.dat',sep='\\s+', header=None, names=None,skiprows=[0,1])\n",
    "\n",
    "indabs_energy = indabs[0].tolist()\n",
    "indabs_imag = indabs[4].tolist()\n",
    "#这个数字对应选择不同展宽值[0.001,0.002,0.005,0.01,0.02,0.05,0.1,0.2,0.5]\n",
    "#与实验文献中的epsilon2对比，选择epsilon2最接近的展宽值\n",
    "\n",
    "indabs_real = pykk.imag2real(indabs_energy,indabs_imag) \n",
    "indabs_real = pd.Series(indabs_real)\n",
    "indabs_real = indabs_real.T\n",
    "\n",
    "indabs = pd.DataFrame({'energy':indabs_energy,'epsilon1':indabs_real,'epsilon2':indabs_imag})\n",
    "print (indabs)\n",
    "\n",
    "indabs.to_csv('zro2_indabs_300K.txt',sep=' ',index=0)"
   ]
  },
  {
   "cell_type": "code",
   "execution_count": null,
   "id": "41f852ee-b999-44ca-847c-67200448cb1d",
   "metadata": {},
   "outputs": [],
   "source": []
  }
 ],
 "metadata": {
  "kernelspec": {
   "display_name": "Python 3 (ipykernel)",
   "language": "python",
   "name": "python3"
  },
  "language_info": {
   "codemirror_mode": {
    "name": "ipython",
    "version": 3
   },
   "file_extension": ".py",
   "mimetype": "text/x-python",
   "name": "python",
   "nbconvert_exporter": "python",
   "pygments_lexer": "ipython3",
   "version": "3.9.7"
  }
 },
 "nbformat": 4,
 "nbformat_minor": 5
}
