{
 "cells": [
  {
   "cell_type": "code",
   "execution_count": 4,
   "id": "f53cb358",
   "metadata": {},
   "outputs": [
    {
     "name": "stdout",
     "output_type": "stream",
     "text": [
      "Nitrogen atom energy: 5.10 eV\n",
      "Nitrogen molecule energy: 0.44 eV\n",
      "Atomization energy: 9.76 eV\n"
     ]
    }
   ],
   "source": [
    "from ase import Atoms\n",
    "from ase.calculators.emt import EMT\n",
    "\n",
    "atom=Atoms('N')\n",
    "atom.calc=EMT()\n",
    "e_atom=atom.get_potential_energy()\n",
    "\n",
    "d=1.1\n",
    "molecule=Atoms('2N',[(0.,0.,0,),(0.,0.,d)])\n",
    "molecule.calc=EMT()\n",
    "e_molecule=molecule.get_potential_energy()\n",
    "\n",
    "e_atomization=e_molecule-2*e_atom\n",
    "\n",
    "print('Nitrogen atom energy:%5.2f eV'%e_atom)\n",
    "print('Nitrogen molecule energy:%5.2f eV'%e_molecule)\n",
    "print('Atomization energy:%5.2f eV'%-e_atomization)"
   ]
  },
  {
   "cell_type": "code",
   "execution_count": null,
   "id": "a54b1118",
   "metadata": {},
   "outputs": [],
   "source": []
  }
 ],
 "metadata": {
  "kernelspec": {
   "display_name": "Python 3 (ipykernel)",
   "language": "python",
   "name": "python3"
  },
  "language_info": {
   "codemirror_mode": {
    "name": "ipython",
    "version": 3
   },
   "file_extension": ".py",
   "mimetype": "text/x-python",
   "name": "python",
   "nbconvert_exporter": "python",
   "pygments_lexer": "ipython3",
   "version": "3.9.10"
  }
 },
 "nbformat": 4,
 "nbformat_minor": 5
}
