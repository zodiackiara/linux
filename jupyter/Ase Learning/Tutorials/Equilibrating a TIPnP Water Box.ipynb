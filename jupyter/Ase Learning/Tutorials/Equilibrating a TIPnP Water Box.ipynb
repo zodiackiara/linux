{
 "cells": [
  {
   "cell_type": "code",
   "execution_count": 1,
   "id": "17a2fd3b",
   "metadata": {},
   "outputs": [
    {
     "name": "stderr",
     "output_type": "stream",
     "text": [
      "C:\\Softwares\\Miniconda\\lib\\site-packages\\ase\\md\\md.py:48: FutureWarning: Specify the temperature in K using the 'temperature_K' argument\n",
      "  warnings.warn(FutureWarning(w))\n"
     ]
    },
    {
     "ename": "KeyboardInterrupt",
     "evalue": "",
     "output_type": "error",
     "traceback": [
      "\u001b[1;31m---------------------------------------------------------------------------\u001b[0m",
      "\u001b[1;31mKeyboardInterrupt\u001b[0m                         Traceback (most recent call last)",
      "Input \u001b[1;32mIn [1]\u001b[0m, in \u001b[0;36m<cell line: 31>\u001b[1;34m()\u001b[0m\n\u001b[0;32m     29\u001b[0m traj \u001b[38;5;241m=\u001b[39m Trajectory(tag \u001b[38;5;241m+\u001b[39m \u001b[38;5;124m'\u001b[39m\u001b[38;5;124m.traj\u001b[39m\u001b[38;5;124m'\u001b[39m, \u001b[38;5;124m'\u001b[39m\u001b[38;5;124mw\u001b[39m\u001b[38;5;124m'\u001b[39m, atoms)\n\u001b[0;32m     30\u001b[0m md\u001b[38;5;241m.\u001b[39mattach(traj\u001b[38;5;241m.\u001b[39mwrite, interval\u001b[38;5;241m=\u001b[39m\u001b[38;5;241m1\u001b[39m)\n\u001b[1;32m---> 31\u001b[0m \u001b[43mmd\u001b[49m\u001b[38;5;241;43m.\u001b[39;49m\u001b[43mrun\u001b[49m\u001b[43m(\u001b[49m\u001b[38;5;241;43m4000\u001b[39;49m\u001b[43m)\u001b[49m\n\u001b[0;32m     33\u001b[0m tag \u001b[38;5;241m=\u001b[39m \u001b[38;5;124m'\u001b[39m\u001b[38;5;124mtip3p_216mol_equil\u001b[39m\u001b[38;5;124m'\u001b[39m\n\u001b[0;32m     34\u001b[0m atoms\u001b[38;5;241m.\u001b[39mset_constraint()\n",
      "File \u001b[1;32mC:\\Softwares\\Miniconda\\lib\\site-packages\\ase\\md\\md.py:137\u001b[0m, in \u001b[0;36mMolecularDynamics.run\u001b[1;34m(self, steps)\u001b[0m\n\u001b[0;32m    135\u001b[0m \u001b[38;5;124;03m\"\"\" Call Dynamics.run and adjust max_steps \"\"\"\u001b[39;00m\n\u001b[0;32m    136\u001b[0m \u001b[38;5;28mself\u001b[39m\u001b[38;5;241m.\u001b[39mmax_steps \u001b[38;5;241m=\u001b[39m steps \u001b[38;5;241m+\u001b[39m \u001b[38;5;28mself\u001b[39m\u001b[38;5;241m.\u001b[39mnsteps\n\u001b[1;32m--> 137\u001b[0m \u001b[38;5;28;01mreturn\u001b[39;00m \u001b[43mDynamics\u001b[49m\u001b[38;5;241;43m.\u001b[39;49m\u001b[43mrun\u001b[49m\u001b[43m(\u001b[49m\u001b[38;5;28;43mself\u001b[39;49m\u001b[43m)\u001b[49m\n",
      "File \u001b[1;32mC:\\Softwares\\Miniconda\\lib\\site-packages\\ase\\optimize\\optimize.py:156\u001b[0m, in \u001b[0;36mDynamics.run\u001b[1;34m(self)\u001b[0m\n\u001b[0;32m    149\u001b[0m \u001b[38;5;28;01mdef\u001b[39;00m \u001b[38;5;21mrun\u001b[39m(\u001b[38;5;28mself\u001b[39m):\n\u001b[0;32m    150\u001b[0m     \u001b[38;5;124;03m\"\"\"Run dynamics algorithm.\u001b[39;00m\n\u001b[0;32m    151\u001b[0m \n\u001b[0;32m    152\u001b[0m \u001b[38;5;124;03m    This method will return when the forces on all individual\u001b[39;00m\n\u001b[0;32m    153\u001b[0m \u001b[38;5;124;03m    atoms are less than *fmax* or when the number of steps exceeds\u001b[39;00m\n\u001b[0;32m    154\u001b[0m \u001b[38;5;124;03m    *steps*.\"\"\"\u001b[39;00m\n\u001b[1;32m--> 156\u001b[0m     \u001b[38;5;28;01mfor\u001b[39;00m converged \u001b[38;5;129;01min\u001b[39;00m Dynamics\u001b[38;5;241m.\u001b[39mirun(\u001b[38;5;28mself\u001b[39m):\n\u001b[0;32m    157\u001b[0m         \u001b[38;5;28;01mpass\u001b[39;00m\n\u001b[0;32m    158\u001b[0m     \u001b[38;5;28;01mreturn\u001b[39;00m converged\n",
      "File \u001b[1;32mC:\\Softwares\\Miniconda\\lib\\site-packages\\ase\\optimize\\optimize.py:135\u001b[0m, in \u001b[0;36mDynamics.irun\u001b[1;34m(self)\u001b[0m\n\u001b[0;32m    131\u001b[0m \u001b[38;5;66;03m# run the algorithm until converged or max_steps reached\u001b[39;00m\n\u001b[0;32m    132\u001b[0m \u001b[38;5;28;01mwhile\u001b[39;00m \u001b[38;5;129;01mnot\u001b[39;00m \u001b[38;5;28mself\u001b[39m\u001b[38;5;241m.\u001b[39mconverged() \u001b[38;5;129;01mand\u001b[39;00m \u001b[38;5;28mself\u001b[39m\u001b[38;5;241m.\u001b[39mnsteps \u001b[38;5;241m<\u001b[39m \u001b[38;5;28mself\u001b[39m\u001b[38;5;241m.\u001b[39mmax_steps:\n\u001b[0;32m    133\u001b[0m \n\u001b[0;32m    134\u001b[0m     \u001b[38;5;66;03m# compute the next step\u001b[39;00m\n\u001b[1;32m--> 135\u001b[0m     \u001b[38;5;28;43mself\u001b[39;49m\u001b[38;5;241;43m.\u001b[39;49m\u001b[43mstep\u001b[49m\u001b[43m(\u001b[49m\u001b[43m)\u001b[49m\n\u001b[0;32m    136\u001b[0m     \u001b[38;5;28mself\u001b[39m\u001b[38;5;241m.\u001b[39mnsteps \u001b[38;5;241m+\u001b[39m\u001b[38;5;241m=\u001b[39m \u001b[38;5;241m1\u001b[39m\n\u001b[0;32m    138\u001b[0m     \u001b[38;5;66;03m# let the user inspect the step and change things before logging\u001b[39;00m\n\u001b[0;32m    139\u001b[0m     \u001b[38;5;66;03m# and predicting the next step\u001b[39;00m\n",
      "File \u001b[1;32mC:\\Softwares\\Miniconda\\lib\\site-packages\\ase\\md\\langevin.py:181\u001b[0m, in \u001b[0;36mLangevin.step\u001b[1;34m(self, forces)\u001b[0m\n\u001b[0;32m    178\u001b[0m     \u001b[38;5;28mself\u001b[39m\u001b[38;5;241m.\u001b[39mv \u001b[38;5;241m-\u001b[39m\u001b[38;5;241m=\u001b[39m \u001b[38;5;28mself\u001b[39m\u001b[38;5;241m.\u001b[39m_get_com_velocity(\u001b[38;5;28mself\u001b[39m\u001b[38;5;241m.\u001b[39mv)\n\u001b[0;32m    180\u001b[0m \u001b[38;5;66;03m# Second part of RATTLE taken care of here\u001b[39;00m\n\u001b[1;32m--> 181\u001b[0m \u001b[43matoms\u001b[49m\u001b[38;5;241;43m.\u001b[39;49m\u001b[43mset_momenta\u001b[49m\u001b[43m(\u001b[49m\u001b[38;5;28;43mself\u001b[39;49m\u001b[38;5;241;43m.\u001b[39;49m\u001b[43mv\u001b[49m\u001b[43m \u001b[49m\u001b[38;5;241;43m*\u001b[39;49m\u001b[43m \u001b[49m\u001b[38;5;28;43mself\u001b[39;49m\u001b[38;5;241;43m.\u001b[39;49m\u001b[43mmasses\u001b[49m\u001b[43m)\u001b[49m\n\u001b[0;32m    183\u001b[0m \u001b[38;5;28;01mreturn\u001b[39;00m forces\n",
      "File \u001b[1;32mC:\\Softwares\\Miniconda\\lib\\site-packages\\ase\\atoms.py:586\u001b[0m, in \u001b[0;36mAtoms.set_momenta\u001b[1;34m(self, momenta, apply_constraint)\u001b[0m\n\u001b[0;32m    584\u001b[0m     \u001b[38;5;28;01mfor\u001b[39;00m constraint \u001b[38;5;129;01min\u001b[39;00m \u001b[38;5;28mself\u001b[39m\u001b[38;5;241m.\u001b[39mconstraints:\n\u001b[0;32m    585\u001b[0m         \u001b[38;5;28;01mif\u001b[39;00m \u001b[38;5;28mhasattr\u001b[39m(constraint, \u001b[38;5;124m'\u001b[39m\u001b[38;5;124madjust_momenta\u001b[39m\u001b[38;5;124m'\u001b[39m):\n\u001b[1;32m--> 586\u001b[0m             \u001b[43mconstraint\u001b[49m\u001b[38;5;241;43m.\u001b[39;49m\u001b[43madjust_momenta\u001b[49m\u001b[43m(\u001b[49m\u001b[38;5;28;43mself\u001b[39;49m\u001b[43m,\u001b[49m\u001b[43m \u001b[49m\u001b[43mmomenta\u001b[49m\u001b[43m)\u001b[49m\n\u001b[0;32m    587\u001b[0m \u001b[38;5;28mself\u001b[39m\u001b[38;5;241m.\u001b[39mset_array(\u001b[38;5;124m'\u001b[39m\u001b[38;5;124mmomenta\u001b[39m\u001b[38;5;124m'\u001b[39m, momenta, \u001b[38;5;28mfloat\u001b[39m, (\u001b[38;5;241m3\u001b[39m,))\n",
      "File \u001b[1;32mC:\\Softwares\\Miniconda\\lib\\site-packages\\ase\\constraints.py:308\u001b[0m, in \u001b[0;36mFixBondLengths.adjust_momenta\u001b[1;34m(self, atoms, p)\u001b[0m\n\u001b[0;32m    306\u001b[0m cd \u001b[38;5;241m=\u001b[39m \u001b[38;5;28mself\u001b[39m\u001b[38;5;241m.\u001b[39mbondlengths[j]\n\u001b[0;32m    307\u001b[0m d \u001b[38;5;241m=\u001b[39m old[a] \u001b[38;5;241m-\u001b[39m old[b]\n\u001b[1;32m--> 308\u001b[0m d, _ \u001b[38;5;241m=\u001b[39m \u001b[43mfind_mic\u001b[49m\u001b[43m(\u001b[49m\u001b[43md\u001b[49m\u001b[43m,\u001b[49m\u001b[43m \u001b[49m\u001b[43matoms\u001b[49m\u001b[38;5;241;43m.\u001b[39;49m\u001b[43mcell\u001b[49m\u001b[43m,\u001b[49m\u001b[43m \u001b[49m\u001b[43matoms\u001b[49m\u001b[38;5;241;43m.\u001b[39;49m\u001b[43mpbc\u001b[49m\u001b[43m)\u001b[49m\n\u001b[0;32m    309\u001b[0m dv \u001b[38;5;241m=\u001b[39m p[a] \u001b[38;5;241m/\u001b[39m masses[a] \u001b[38;5;241m-\u001b[39m p[b] \u001b[38;5;241m/\u001b[39m masses[b]\n\u001b[0;32m    310\u001b[0m m \u001b[38;5;241m=\u001b[39m \u001b[38;5;241m1\u001b[39m \u001b[38;5;241m/\u001b[39m (\u001b[38;5;241m1\u001b[39m \u001b[38;5;241m/\u001b[39m masses[a] \u001b[38;5;241m+\u001b[39m \u001b[38;5;241m1\u001b[39m \u001b[38;5;241m/\u001b[39m masses[b])\n",
      "File \u001b[1;32mC:\\Softwares\\Miniconda\\lib\\site-packages\\ase\\geometry\\geometry.py:212\u001b[0m, in \u001b[0;36mfind_mic\u001b[1;34m(v, cell, pbc)\u001b[0m\n\u001b[0;32m    210\u001b[0m naive_find_mic_is_safe \u001b[38;5;241m=\u001b[39m \u001b[38;5;28;01mFalse\u001b[39;00m\n\u001b[0;32m    211\u001b[0m \u001b[38;5;28;01mif\u001b[39;00m dim \u001b[38;5;241m==\u001b[39m \u001b[38;5;241m3\u001b[39m:\n\u001b[1;32m--> 212\u001b[0m     vmin, vlen \u001b[38;5;241m=\u001b[39m \u001b[43mnaive_find_mic\u001b[49m\u001b[43m(\u001b[49m\u001b[43mv\u001b[49m\u001b[43m,\u001b[49m\u001b[43m \u001b[49m\u001b[43mcell\u001b[49m\u001b[43m)\u001b[49m\n\u001b[0;32m    213\u001b[0m     \u001b[38;5;66;03m# naive find mic is safe only for the following condition\u001b[39;00m\n\u001b[0;32m    214\u001b[0m     \u001b[38;5;28;01mif\u001b[39;00m (vlen \u001b[38;5;241m<\u001b[39m \u001b[38;5;241m0.5\u001b[39m \u001b[38;5;241m*\u001b[39m \u001b[38;5;28mmin\u001b[39m(cell\u001b[38;5;241m.\u001b[39mlengths()))\u001b[38;5;241m.\u001b[39mall():\n",
      "File \u001b[1;32mC:\\Softwares\\Miniconda\\lib\\site-packages\\ase\\geometry\\geometry.py:158\u001b[0m, in \u001b[0;36mnaive_find_mic\u001b[1;34m(v, cell)\u001b[0m\n\u001b[0;32m    151\u001b[0m \u001b[38;5;28;01mdef\u001b[39;00m \u001b[38;5;21mnaive_find_mic\u001b[39m(v, cell):\n\u001b[0;32m    152\u001b[0m     \u001b[38;5;124;03m\"\"\"Finds the minimum-image representation of vector(s) v.\u001b[39;00m\n\u001b[0;32m    153\u001b[0m \u001b[38;5;124;03m    Safe to use for (pbc.all() and (norm(v_mic) < 0.5 * min(cell.lengths()))).\u001b[39;00m\n\u001b[0;32m    154\u001b[0m \u001b[38;5;124;03m    Can otherwise fail for non-orthorhombic cells.\u001b[39;00m\n\u001b[0;32m    155\u001b[0m \u001b[38;5;124;03m    Described in:\u001b[39;00m\n\u001b[0;32m    156\u001b[0m \u001b[38;5;124;03m    W. Smith, \"The Minimum Image Convention in Non-Cubic MD Cells\", 1989,\u001b[39;00m\n\u001b[0;32m    157\u001b[0m \u001b[38;5;124;03m    http://citeseerx.ist.psu.edu/viewdoc/summary?doi=10.1.1.57.1696.\"\"\"\u001b[39;00m\n\u001b[1;32m--> 158\u001b[0m     f \u001b[38;5;241m=\u001b[39m \u001b[43mCell\u001b[49m\u001b[43m(\u001b[49m\u001b[43mcell\u001b[49m\u001b[43m)\u001b[49m\u001b[38;5;241;43m.\u001b[39;49m\u001b[43mscaled_positions\u001b[49m\u001b[43m(\u001b[49m\u001b[43mv\u001b[49m\u001b[43m)\u001b[49m\n\u001b[0;32m    159\u001b[0m     f \u001b[38;5;241m-\u001b[39m\u001b[38;5;241m=\u001b[39m np\u001b[38;5;241m.\u001b[39mfloor(f \u001b[38;5;241m+\u001b[39m \u001b[38;5;241m0.5\u001b[39m)\n\u001b[0;32m    160\u001b[0m     vmin \u001b[38;5;241m=\u001b[39m f \u001b[38;5;241m@\u001b[39m cell\n",
      "File \u001b[1;32mC:\\Softwares\\Miniconda\\lib\\site-packages\\ase\\cell.py:258\u001b[0m, in \u001b[0;36mCell.scaled_positions\u001b[1;34m(self, positions)\u001b[0m\n\u001b[0;32m    251\u001b[0m \u001b[38;5;28;01mdef\u001b[39;00m \u001b[38;5;21mscaled_positions\u001b[39m(\u001b[38;5;28mself\u001b[39m, positions) \u001b[38;5;241m-\u001b[39m\u001b[38;5;241m>\u001b[39m np\u001b[38;5;241m.\u001b[39mndarray:\n\u001b[0;32m    252\u001b[0m     \u001b[38;5;124;03m\"\"\"Calculate scaled positions from Cartesian positions.\u001b[39;00m\n\u001b[0;32m    253\u001b[0m \n\u001b[0;32m    254\u001b[0m \u001b[38;5;124;03m    The scaled positions are the positions given in the basis\u001b[39;00m\n\u001b[0;32m    255\u001b[0m \u001b[38;5;124;03m    of the cell vectors.  For the purpose of defining the basis, cell\u001b[39;00m\n\u001b[0;32m    256\u001b[0m \u001b[38;5;124;03m    vectors that are zero will be replaced by unit vectors as per\u001b[39;00m\n\u001b[0;32m    257\u001b[0m \u001b[38;5;124;03m    :meth:`~ase.cell.Cell.complete`.\"\"\"\u001b[39;00m\n\u001b[1;32m--> 258\u001b[0m     \u001b[38;5;28;01mreturn\u001b[39;00m np\u001b[38;5;241m.\u001b[39mlinalg\u001b[38;5;241m.\u001b[39msolve(\u001b[38;5;28;43mself\u001b[39;49m\u001b[38;5;241;43m.\u001b[39;49m\u001b[43mcomplete\u001b[49m\u001b[43m(\u001b[49m\u001b[43m)\u001b[49m\u001b[38;5;241m.\u001b[39mT, np\u001b[38;5;241m.\u001b[39mtranspose(positions))\u001b[38;5;241m.\u001b[39mT\n",
      "File \u001b[1;32mC:\\Softwares\\Miniconda\\lib\\site-packages\\ase\\cell.py:192\u001b[0m, in \u001b[0;36mCell.complete\u001b[1;34m(self)\u001b[0m\n\u001b[0;32m    190\u001b[0m \u001b[38;5;124;03m\"\"\"Convert missing cell vectors into orthogonal unit vectors.\"\"\"\u001b[39;00m\n\u001b[0;32m    191\u001b[0m \u001b[38;5;28;01mfrom\u001b[39;00m \u001b[38;5;21;01mase\u001b[39;00m\u001b[38;5;21;01m.\u001b[39;00m\u001b[38;5;21;01mgeometry\u001b[39;00m\u001b[38;5;21;01m.\u001b[39;00m\u001b[38;5;21;01mcell\u001b[39;00m \u001b[38;5;28;01mimport\u001b[39;00m complete_cell\n\u001b[1;32m--> 192\u001b[0m cell \u001b[38;5;241m=\u001b[39m Cell(\u001b[43mcomplete_cell\u001b[49m\u001b[43m(\u001b[49m\u001b[38;5;28;43mself\u001b[39;49m\u001b[38;5;241;43m.\u001b[39;49m\u001b[43marray\u001b[49m\u001b[43m)\u001b[49m)\n\u001b[0;32m    193\u001b[0m \u001b[38;5;28;01mreturn\u001b[39;00m cell\n",
      "File \u001b[1;32mC:\\Softwares\\Miniconda\\lib\\site-packages\\ase\\geometry\\cell.py:154\u001b[0m, in \u001b[0;36mcomplete_cell\u001b[1;34m(cell)\u001b[0m\n\u001b[0;32m    148\u001b[0m \u001b[38;5;28;01mdef\u001b[39;00m \u001b[38;5;21mcomplete_cell\u001b[39m(cell):\n\u001b[0;32m    149\u001b[0m     \u001b[38;5;124;03m\"\"\"Calculate complete cell with missing lattice vectors.\u001b[39;00m\n\u001b[0;32m    150\u001b[0m \n\u001b[0;32m    151\u001b[0m \u001b[38;5;124;03m    Returns a new 3x3 ndarray.\u001b[39;00m\n\u001b[0;32m    152\u001b[0m \u001b[38;5;124;03m    \"\"\"\u001b[39;00m\n\u001b[1;32m--> 154\u001b[0m     cell \u001b[38;5;241m=\u001b[39m \u001b[43mnp\u001b[49m\u001b[38;5;241;43m.\u001b[39;49m\u001b[43marray\u001b[49m\u001b[43m(\u001b[49m\u001b[43mcell\u001b[49m\u001b[43m,\u001b[49m\u001b[43m \u001b[49m\u001b[43mdtype\u001b[49m\u001b[38;5;241;43m=\u001b[39;49m\u001b[38;5;28;43mfloat\u001b[39;49m\u001b[43m)\u001b[49m\n\u001b[0;32m    155\u001b[0m     missing \u001b[38;5;241m=\u001b[39m np\u001b[38;5;241m.\u001b[39mnonzero(\u001b[38;5;241m~\u001b[39mcell\u001b[38;5;241m.\u001b[39many(axis\u001b[38;5;241m=\u001b[39m\u001b[38;5;241m1\u001b[39m))[\u001b[38;5;241m0\u001b[39m]\n\u001b[0;32m    157\u001b[0m     \u001b[38;5;28;01mif\u001b[39;00m \u001b[38;5;28mlen\u001b[39m(missing) \u001b[38;5;241m==\u001b[39m \u001b[38;5;241m3\u001b[39m:\n",
      "\u001b[1;31mKeyboardInterrupt\u001b[0m: "
     ]
    }
   ],
   "source": [
    "from ase import Atoms\n",
    "from ase.constraints import FixBondLengths\n",
    "from ase.calculators.tip3p import TIP3P, rOH, angleHOH\n",
    "from ase.md import Langevin\n",
    "import ase.units as units\n",
    "from ase.io.trajectory import Trajectory\n",
    "import numpy as np\n",
    "\n",
    "x = angleHOH * np.pi / 180 / 2\n",
    "pos = [[0, 0, 0],\n",
    "       [0, rOH * np.cos(x), rOH * np.sin(x)],\n",
    "       [0, rOH * np.cos(x), -rOH * np.sin(x)]]\n",
    "atoms = Atoms('OH2', positions=pos)\n",
    "vol = ((18.01528 / 6.022140857e23) / (0.9982 / 1e24))**(1 / 3.)\n",
    "atoms.set_cell((vol, vol, vol))\n",
    "atoms.center()\n",
    "atoms = atoms.repeat((3, 3, 3))\n",
    "atoms.set_pbc(True)\n",
    "\n",
    "atoms.constraints = FixBondLengths([(3 * i + j, 3 * i + (j + 1) % 3)\n",
    "                                    for i in range(3**3)\n",
    "                                    for j in [0, 1, 2]])\n",
    "\n",
    "tag = 'tip3p_27mol_equil'\n",
    "atoms.calc = TIP3P(rc=4.5)\n",
    "md = Langevin(atoms, 1 * units.fs, temperature=300 * units.kB,\n",
    "              friction=0.01, logfile=tag + '.log')\n",
    "\n",
    "traj = Trajectory(tag + '.traj', 'w', atoms)\n",
    "md.attach(traj.write, interval=1)\n",
    "md.run(4000)\n",
    "\n",
    "tag = 'tip3p_216mol_equil'\n",
    "atoms.set_constraint()\n",
    "atoms = atoms.repeat((2, 2, 2))\n",
    "atoms.constraints = FixBondLengths([(3 * i + j, 3 * i + (j + 1) % 3)\n",
    "                                    for i in range(len(atoms) / 3)\n",
    "                                    for j in [0, 1, 2]])\n",
    "atoms.calc = TIP3P(rc=7.)\n",
    "md = Langevin(atoms, 2 * units.fs, temperature=300 * units.kB,\n",
    "              friction=0.01, logfile=tag + '.log')\n",
    "\n",
    "traj = Trajectory(tag + '.traj', 'w', atoms)\n",
    "md.attach(traj.write, interval=1)\n",
    "md.run(2000)"
   ]
  },
  {
   "cell_type": "code",
   "execution_count": null,
   "id": "88ba4ff2",
   "metadata": {},
   "outputs": [],
   "source": []
  }
 ],
 "metadata": {
  "kernelspec": {
   "display_name": "Python 3 (ipykernel)",
   "language": "python",
   "name": "python3"
  },
  "language_info": {
   "codemirror_mode": {
    "name": "ipython",
    "version": 3
   },
   "file_extension": ".py",
   "mimetype": "text/x-python",
   "name": "python",
   "nbconvert_exporter": "python",
   "pygments_lexer": "ipython3",
   "version": "3.9.10"
  }
 },
 "nbformat": 4,
 "nbformat_minor": 5
}
