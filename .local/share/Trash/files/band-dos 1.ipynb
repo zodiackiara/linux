{
 "cells": [
  {
   "cell_type": "code",
   "execution_count": 3,
   "id": "a8954970-68a5-4fd4-8aaa-f39dcaf232ca",
   "metadata": {},
   "outputs": [
    {
     "ename": "SyntaxError",
     "evalue": "invalid syntax (3020153619.py, line 5)",
     "output_type": "error",
     "traceback": [
      "\u001b[0;36m  Cell \u001b[0;32mIn [3], line 5\u001b[0;36m\u001b[0m\n\u001b[0;31m    cd 1/dos\u001b[0m\n\u001b[0m       ^\u001b[0m\n\u001b[0;31mSyntaxError\u001b[0m\u001b[0;31m:\u001b[0m invalid syntax\n"
     ]
    }
   ],
   "source": [
    "import matplotlib.pyplot \n",
    "from pymatgen.io.vasp.outputs import Vasprun \n",
    "from pymatgen.electronic_structure.plotter import BSDOSPlotter,BSPlotter,BSPlotterProjected,DosPlotter\n",
    "\n",
    "cd 1/dos\n",
    "dos_vasprun=Vasprun(vasprun.xml) \n",
    "dos_data=dos_vasprun.complete_dos \n",
    "cd ../band\n",
    "bs_vasprun=Vasprun(\"vasprun.xml\",parse_projected_eigen=True) \n",
    "bs_data=bs_vasprun.get_band_structure(line_mode=1)\n",
    "plt_2=BSDOSPlotter(bs_projection='elements', dos_projection='elements')\n",
    "plt_2.get_plot(bs=bs_data,dos=dos_data) \n",
    "matplotlib.pyplot.savefig('band-dos.png')\n",
    "cp band-dos.png $i-band-dos.png\n"
   ]
  },
  {
   "cell_type": "code",
   "execution_count": null,
   "id": "e9c62641-eaf4-46f6-8e58-ceb8a489db52",
   "metadata": {},
   "outputs": [],
   "source": []
  }
 ],
 "metadata": {
  "kernelspec": {
   "display_name": "Python 3 (ipykernel)",
   "language": "python",
   "name": "python3"
  },
  "language_info": {
   "codemirror_mode": {
    "name": "ipython",
    "version": 3
   },
   "file_extension": ".py",
   "mimetype": "text/x-python",
   "name": "python",
   "nbconvert_exporter": "python",
   "pygments_lexer": "ipython3",
   "version": "3.9.7"
  }
 },
 "nbformat": 4,
 "nbformat_minor": 5
}
