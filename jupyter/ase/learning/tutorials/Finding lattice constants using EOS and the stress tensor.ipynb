{
 "cells": [
  {
   "cell_type": "code",
   "execution_count": 33,
   "id": "cfa658ee",
   "metadata": {},
   "outputs": [],
   "source": [
    "import numpy as np\n",
    "from ase import Atoms\n",
    "from ase.io import Trajectory\n",
    "from ase.calculators.emt import EMT\n",
    "from ase.io import read\n",
    "from ase.build import bulk\n",
    "from ase.visualize import view\n",
    "\n",
    "a0=3.52/np.sqrt(2)\n",
    "c0=np.sqrt(8/3.0)*a0\n",
    "traj=Trajectory('Ni.traj','w')\n",
    "eps=0.01\n",
    "for a in a0*np.linspace(1-eps,1+eps,3):\n",
    "    for c in c0*np.linspace(1-eps,1+eps,3):\n",
    "        ni=bulk('Ni','hcp',a=a,c=c)\n",
    "ni=bulk('Ni','hcp',a=2.5,c=4.0)\n",
    "ni.calc=EMT()\n",
    "ni.get_potential_energy()\n",
    "traj.write(ni)\n",
    "view(ni)\n",
    "\n",
    "configs=read('Ni.traj@:')\n",
    "energies=[config.get_potential_energy() for config in configs]\n",
    "a=np.array([config.cell[0,0] for config in configs])\n",
    "c=np.array([config.cell[2,2] for config in configs])\n",
    "functions=np.array([a**0,a,c,a**2,a*c,c**2])\n",
    "p=np.linalg.lstsq(functions.T,energies,rcond=-1)[0]\n",
    "p0=p[0]\n",
    "p1=p[1:3]\n",
    "p2=np.array([(2*p[3],p[4]),(p[4],2*p[5])])\n",
    "a0,c0=np.linalg.solve(p2.T,-p1)\n",
    "\n",
    "with open('lattice_constant.csv','w') as fd:\n",
    "    fd.write('%.3f,%.3f\\n'%(a0,c0))"
   ]
  },
  {
   "cell_type": "code",
   "execution_count": 32,
   "id": "31688afc",
   "metadata": {},
   "outputs": [
    {
     "name": "stdout",
     "output_type": "stream",
     "text": [
      "(-0.13333333333333333, -0.08333333333333333)\n"
     ]
    }
   ],
   "source": [
    "import numpy as np\n",
    "from ase.io import Trajectory\n",
    "from ase.calculators.emt import EMT\n",
    "from ase.io import read\n",
    "\n",
    "a0 = 3.52 / np.sqrt(2)\n",
    "c0 = np.sqrt(8 / 3.0) * a0\n",
    "\n",
    "traj = Trajectory('Ni.traj', 'w')\n",
    "\n",
    "eps = 0.01\n",
    "for a in a0 * np.linspace(1 - eps, 1 + eps, 3):\n",
    "    for c in c0 * np.linspace(1 - eps, 1 + eps, 3):\n",
    "        ni = bulk('Ni', 'hcp', a=a, c=c)\n",
    "from ase.build import bulk\n",
    "ni = bulk('Ni', 'hcp', a=2.5, c=4.0)\n",
    "ni.calc=EMT()\n",
    "ni.get_potential_energy()\n",
    "traj.write(ni)\n",
    "\n",
    "configs = read('Ni.traj@:')\n",
    "energies = [config.get_potential_energy() for config in configs]\n",
    "a = np.array([config.cell[0, 0] for config in configs])\n",
    "c = np.array([config.cell[2, 2] for config in configs])\n",
    "functions = np.array([a**0, a, c, a**2, a * c, c**2])\n",
    "p = np.linalg.lstsq(functions.T, energies, rcond=-1)[0]\n",
    "p0 = p[0]\n",
    "p1 = p[1:3]\n",
    "p2 = np.array([(2 * p[3], p[4]),\n",
    "               (p[4], 2 * p[5])])\n",
    "a0, c0 = np.linalg.solve(p2.T, -p1)\n",
    "\n",
    "with open('lattice_constant.csv', 'w') as fd:\n",
    "    fd.write('%.3f, %.3f\\n' % (a0, c0))\n",
    "print((a0,c0))"
   ]
  },
  {
   "cell_type": "code",
   "execution_count": null,
   "id": "3ed0bc4d",
   "metadata": {},
   "outputs": [],
   "source": []
  },
  {
   "cell_type": "code",
   "execution_count": null,
   "id": "df524f44",
   "metadata": {},
   "outputs": [],
   "source": []
  }
 ],
 "metadata": {
  "kernelspec": {
   "display_name": "Python 3 (ipykernel)",
   "language": "python",
   "name": "python3"
  },
  "language_info": {
   "codemirror_mode": {
    "name": "ipython",
    "version": 3
   },
   "file_extension": ".py",
   "mimetype": "text/x-python",
   "name": "python",
   "nbconvert_exporter": "python",
   "pygments_lexer": "ipython3",
   "version": "3.9.10"
  }
 },
 "nbformat": 4,
 "nbformat_minor": 5
}
