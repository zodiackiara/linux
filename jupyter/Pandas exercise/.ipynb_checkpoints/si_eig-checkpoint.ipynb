{
 "cells": [
  {
   "cell_type": "code",
   "execution_count": 8,
   "id": "5a571d6f-b1bd-4113-a44f-809c85f44d92",
   "metadata": {},
   "outputs": [
    {
     "name": "stdout",
     "output_type": "stream",
     "text": [
      "<class 'pandas.core.frame.DataFrame'>\n",
      "RangeIndex: 216 entries, 0 to 215\n",
      "Data columns (total 1 columns):\n",
      " #   Column  Non-Null Count  Dtype  \n",
      "---  ------  --------------  -----  \n",
      " 0   0       216 non-null    float64\n",
      "dtypes: float64(1)\n",
      "memory usage: 1.8 KB\n",
      "None\n",
      "[8.982354]\n",
      "[6.359718]\n",
      "[7.282893]\n",
      "33\n",
      "63\n",
      "216\n"
     ]
    }
   ],
   "source": [
    "import pandas as pd\n",
    "eig = pd.read_csv('si.eig',header=None, names=None,skiprows=lambda x: x > 0 and (x-6) % 13 != 0)\n",
    "print(eig.info())\n",
    "#print(eig.head(10))\n",
    "print(max(eig.values))\n",
    "print(min(eig.values))\n",
    "print(eig.values[2])\n",
    "i=0\n",
    "n=0\n",
    "while i<216:\n",
    "    if eig.values[i]<=6.77: #fsthick=1.2\n",
    "        n=n+1\n",
    "    i=i+1\n",
    "print(n)\n",
    "\n",
    "i=0\n",
    "n=0\n",
    "while i<216:\n",
    "    if eig.values[i]<=7.57: #fsthick=2.0\n",
    "        n=n+1\n",
    "    i=i+1\n",
    "print(n)\n",
    "\n",
    "i=0\n",
    "n=0\n",
    "while i<216:\n",
    "    if eig.values[i]<=9.07: #fsthick=4.0\n",
    "        n=n+1\n",
    "    i=i+1\n",
    "print(n)\n"
   ]
  },
  {
   "cell_type": "code",
   "execution_count": 1,
   "id": "606a7104-6a3a-42b0-b273-a91a8ba1d2c2",
   "metadata": {},
   "outputs": [
    {
     "name": "stdout",
     "output_type": "stream",
     "text": [
      "<class 'pandas.core.frame.DataFrame'>\n",
      "RangeIndex: 216 entries, 0 to 215\n",
      "Data columns (total 1 columns):\n",
      " #   Column  Non-Null Count  Dtype  \n",
      "---  ------  --------------  -----  \n",
      " 0   0       216 non-null    float64\n",
      "dtypes: float64(1)\n",
      "memory usage: 1.8 KB\n",
      "None\n",
      "          0\n",
      "0  8.235928\n",
      "1  7.902547\n",
      "2  7.282893\n",
      "3  7.050084\n",
      "4  7.282893\n",
      "5  7.902547\n",
      "6  7.902547\n",
      "7  7.346569\n",
      "8  7.577393\n",
      "9  7.673269\n"
     ]
    }
   ],
   "source": [
    "import pandas as pd\n",
    "eig = pd.read_csv('si.eig',header=None, names=None,skiprows=lambda x: x > 0 and (x-6) % 13 != 0)\n",
    "#由于前面空了两格，linux从0开始计数，得到每个k点第5条能带能量，调整x减去的值得到不同能带能量\n",
    "print(eig.info())\n",
    "print(eig.head(10))"
   ]
  },
  {
   "cell_type": "code",
   "execution_count": 6,
   "id": "56c6c9e9-7f43-4e0d-a6ce-47cdc7225f4c",
   "metadata": {},
   "outputs": [
    {
     "name": "stdout",
     "output_type": "stream",
     "text": [
      "[4.923738]\n",
      "[1.392363]\n",
      "[15.476972]\n",
      "[8.235928]\n"
     ]
    }
   ],
   "source": [
    "import pandas as pd\n",
    "eig = pd.read_csv('si.eig',header=None, names=None,skiprows=lambda x: x > 0 and (x-5) % 13 != 0) #价带顶：第4条\n",
    "print(max(eig.values))\n",
    "print(min(eig.values))\n",
    "import pandas as pd\n",
    "eig = pd.read_csv('si.eig',header=None, names=None,skiprows=lambda x: x > 0 and (x-8) % 13 != 0) #导带底：第5条\n",
    "print(max(eig.values))\n",
    "print(min(eig.values))\n",
    "#fermi energy=4.92"
   ]
  },
  {
   "cell_type": "code",
   "execution_count": 7,
   "id": "49216868-3908-4dae-91b5-2dadb8d0d93a",
   "metadata": {},
   "outputs": [
    {
     "name": "stdout",
     "output_type": "stream",
     "text": [
      "[15.476972]\n",
      "[8.699501]\n",
      "[16.544609]\n",
      "[11.905174]\n",
      "[20.115091]\n",
      "[16.063606]\n"
     ]
    }
   ],
   "source": [
    "import pandas as pd\n",
    "eig = pd.read_csv('si.eig',header=None, names=None,skiprows=lambda x: x > 0 and (x-9) % 13 != 0) #第8条\n",
    "print(max(eig.values))\n",
    "print(min(eig.values)) #9只比第8条最小值大一点\n",
    "import pandas as pd\n",
    "eig = pd.read_csv('si.eig',header=None, names=None,skiprows=lambda x: x > 0 and (x-10) % 13 != 0) #第9条\n",
    "print(max(eig.values))\n",
    "print(min(eig.values))\n",
    "import pandas as pd\n",
    "eig = pd.read_csv('si.eig',header=None, names=None,skiprows=lambda x: x > 0 and (x-13) % 13 != 0) #第12条\n",
    "print(max(eig.values))\n",
    "print(min(eig.values)) #18在第12条中间"
   ]
  },
  {
   "cell_type": "code",
   "execution_count": null,
   "id": "9999a74c-a6e4-4869-8e13-f1651ad5aecc",
   "metadata": {},
   "outputs": [],
   "source": []
  }
 ],
 "metadata": {
  "kernelspec": {
   "display_name": "Python 3 (ipykernel)",
   "language": "python",
   "name": "python3"
  },
  "language_info": {
   "codemirror_mode": {
    "name": "ipython",
    "version": 3
   },
   "file_extension": ".py",
   "mimetype": "text/x-python",
   "name": "python",
   "nbconvert_exporter": "python",
   "pygments_lexer": "ipython3",
   "version": "3.9.7"
  }
 },
 "nbformat": 4,
 "nbformat_minor": 5
}
